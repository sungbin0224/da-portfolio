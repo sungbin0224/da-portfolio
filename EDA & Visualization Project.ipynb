{
 "cells": [
  {
   "cell_type": "markdown",
   "id": "005e0f38",
   "metadata": {},
   "source": [
    "# Exploratory Data Analysis & Visualization Project (Finance)"
   ]
  },
  {
   "cell_type": "markdown",
   "id": "8e6f96fc",
   "metadata": {},
   "source": [
    "### 1. Retrieve data & transform data into usable format"
   ]
  },
  {
   "cell_type": "code",
   "execution_count": 1,
   "id": "67a50cc5",
   "metadata": {},
   "outputs": [],
   "source": [
    "from pandas_datareader import data, wb\n",
    "import pandas as pd\n",
    "import numpy as np\n",
    "import datetime\n",
    "%matplotlib inline"
   ]
  },
  {
   "cell_type": "code",
   "execution_count": 2,
   "id": "05a5377a",
   "metadata": {},
   "outputs": [],
   "source": [
    "start = datetime.datetime(2006, 1, 1)\n",
    "end = datetime.datetime(2016, 1, 1)\n",
    "\n",
    "# Bank of America\n",
    "BAC = data.DataReader(\"BAC\", 'yahoo', start, end)\n",
    "# CitiGroup\n",
    "C = data.DataReader(\"C\", 'yahoo', start, end)\n",
    "# Goldman Sachs\n",
    "GS = data.DataReader(\"GS\", 'yahoo', start, end)\n",
    "# JPMorgan Chase\n",
    "JPM = data.DataReader(\"JPM\", 'yahoo', start, end)\n",
    "# Morgan Stanley\n",
    "MS = data.DataReader(\"MS\", 'yahoo', start, end)\n",
    "# Wells Fargo\n",
    "WFC = data.DataReader(\"WFC\", 'yahoo', start, end)\n",
    "\n",
    "#Ceate list of tickers=\n",
    "tickers = ['BAC', 'C', 'GS', 'JPM', 'MS', 'WFC']"
   ]
  },
  {
   "cell_type": "code",
   "execution_count": 3,
   "id": "723c4b57",
   "metadata": {},
   "outputs": [
    {
     "data": {
      "text/html": [
       "<div>\n",
       "<style scoped>\n",
       "    .dataframe tbody tr th:only-of-type {\n",
       "        vertical-align: middle;\n",
       "    }\n",
       "\n",
       "    .dataframe tbody tr th {\n",
       "        vertical-align: top;\n",
       "    }\n",
       "\n",
       "    .dataframe thead tr th {\n",
       "        text-align: left;\n",
       "    }\n",
       "\n",
       "    .dataframe thead tr:last-of-type th {\n",
       "        text-align: right;\n",
       "    }\n",
       "</style>\n",
       "<table border=\"1\" class=\"dataframe\">\n",
       "  <thead>\n",
       "    <tr>\n",
       "      <th>Bank Ticker</th>\n",
       "      <th colspan=\"6\" halign=\"left\">BAC</th>\n",
       "      <th colspan=\"4\" halign=\"left\">C</th>\n",
       "      <th>...</th>\n",
       "      <th colspan=\"4\" halign=\"left\">MS</th>\n",
       "      <th colspan=\"6\" halign=\"left\">WFC</th>\n",
       "    </tr>\n",
       "    <tr>\n",
       "      <th>Stock Info</th>\n",
       "      <th>High</th>\n",
       "      <th>Low</th>\n",
       "      <th>Open</th>\n",
       "      <th>Close</th>\n",
       "      <th>Volume</th>\n",
       "      <th>Adj Close</th>\n",
       "      <th>High</th>\n",
       "      <th>Low</th>\n",
       "      <th>Open</th>\n",
       "      <th>Close</th>\n",
       "      <th>...</th>\n",
       "      <th>Open</th>\n",
       "      <th>Close</th>\n",
       "      <th>Volume</th>\n",
       "      <th>Adj Close</th>\n",
       "      <th>High</th>\n",
       "      <th>Low</th>\n",
       "      <th>Open</th>\n",
       "      <th>Close</th>\n",
       "      <th>Volume</th>\n",
       "      <th>Adj Close</th>\n",
       "    </tr>\n",
       "    <tr>\n",
       "      <th>Date</th>\n",
       "      <th></th>\n",
       "      <th></th>\n",
       "      <th></th>\n",
       "      <th></th>\n",
       "      <th></th>\n",
       "      <th></th>\n",
       "      <th></th>\n",
       "      <th></th>\n",
       "      <th></th>\n",
       "      <th></th>\n",
       "      <th></th>\n",
       "      <th></th>\n",
       "      <th></th>\n",
       "      <th></th>\n",
       "      <th></th>\n",
       "      <th></th>\n",
       "      <th></th>\n",
       "      <th></th>\n",
       "      <th></th>\n",
       "      <th></th>\n",
       "      <th></th>\n",
       "    </tr>\n",
       "  </thead>\n",
       "  <tbody>\n",
       "    <tr>\n",
       "      <th>2006-01-03</th>\n",
       "      <td>47.180000</td>\n",
       "      <td>46.150002</td>\n",
       "      <td>46.919998</td>\n",
       "      <td>47.080002</td>\n",
       "      <td>16296700.0</td>\n",
       "      <td>34.106030</td>\n",
       "      <td>493.799988</td>\n",
       "      <td>481.100006</td>\n",
       "      <td>490.000000</td>\n",
       "      <td>492.899994</td>\n",
       "      <td>...</td>\n",
       "      <td>57.169998</td>\n",
       "      <td>58.310001</td>\n",
       "      <td>5377000.0</td>\n",
       "      <td>36.114265</td>\n",
       "      <td>31.975000</td>\n",
       "      <td>31.195000</td>\n",
       "      <td>31.600000</td>\n",
       "      <td>31.900000</td>\n",
       "      <td>11016400.0</td>\n",
       "      <td>20.444866</td>\n",
       "    </tr>\n",
       "    <tr>\n",
       "      <th>2006-01-04</th>\n",
       "      <td>47.240002</td>\n",
       "      <td>46.450001</td>\n",
       "      <td>47.000000</td>\n",
       "      <td>46.580002</td>\n",
       "      <td>17757900.0</td>\n",
       "      <td>33.743805</td>\n",
       "      <td>491.000000</td>\n",
       "      <td>483.500000</td>\n",
       "      <td>488.600006</td>\n",
       "      <td>483.799988</td>\n",
       "      <td>...</td>\n",
       "      <td>58.700001</td>\n",
       "      <td>58.349998</td>\n",
       "      <td>7977800.0</td>\n",
       "      <td>36.139030</td>\n",
       "      <td>31.820000</td>\n",
       "      <td>31.365000</td>\n",
       "      <td>31.799999</td>\n",
       "      <td>31.530001</td>\n",
       "      <td>10870000.0</td>\n",
       "      <td>20.207739</td>\n",
       "    </tr>\n",
       "    <tr>\n",
       "      <th>2006-01-05</th>\n",
       "      <td>46.830002</td>\n",
       "      <td>46.320000</td>\n",
       "      <td>46.580002</td>\n",
       "      <td>46.639999</td>\n",
       "      <td>14970700.0</td>\n",
       "      <td>33.787273</td>\n",
       "      <td>487.799988</td>\n",
       "      <td>484.000000</td>\n",
       "      <td>484.399994</td>\n",
       "      <td>486.200012</td>\n",
       "      <td>...</td>\n",
       "      <td>58.549999</td>\n",
       "      <td>58.509998</td>\n",
       "      <td>5778000.0</td>\n",
       "      <td>36.238129</td>\n",
       "      <td>31.555000</td>\n",
       "      <td>31.309999</td>\n",
       "      <td>31.500000</td>\n",
       "      <td>31.495001</td>\n",
       "      <td>10158000.0</td>\n",
       "      <td>20.185299</td>\n",
       "    </tr>\n",
       "    <tr>\n",
       "      <th>2006-01-06</th>\n",
       "      <td>46.910000</td>\n",
       "      <td>46.349998</td>\n",
       "      <td>46.799999</td>\n",
       "      <td>46.570000</td>\n",
       "      <td>12599800.0</td>\n",
       "      <td>33.736557</td>\n",
       "      <td>489.000000</td>\n",
       "      <td>482.000000</td>\n",
       "      <td>488.799988</td>\n",
       "      <td>486.200012</td>\n",
       "      <td>...</td>\n",
       "      <td>58.770000</td>\n",
       "      <td>58.570000</td>\n",
       "      <td>6889800.0</td>\n",
       "      <td>36.275284</td>\n",
       "      <td>31.775000</td>\n",
       "      <td>31.385000</td>\n",
       "      <td>31.580000</td>\n",
       "      <td>31.680000</td>\n",
       "      <td>8403800.0</td>\n",
       "      <td>20.303871</td>\n",
       "    </tr>\n",
       "    <tr>\n",
       "      <th>2006-01-09</th>\n",
       "      <td>46.970001</td>\n",
       "      <td>46.360001</td>\n",
       "      <td>46.720001</td>\n",
       "      <td>46.599998</td>\n",
       "      <td>15619400.0</td>\n",
       "      <td>33.758305</td>\n",
       "      <td>487.399994</td>\n",
       "      <td>483.000000</td>\n",
       "      <td>486.000000</td>\n",
       "      <td>483.899994</td>\n",
       "      <td>...</td>\n",
       "      <td>58.630001</td>\n",
       "      <td>59.189999</td>\n",
       "      <td>4144500.0</td>\n",
       "      <td>36.659290</td>\n",
       "      <td>31.825001</td>\n",
       "      <td>31.555000</td>\n",
       "      <td>31.674999</td>\n",
       "      <td>31.674999</td>\n",
       "      <td>5619600.0</td>\n",
       "      <td>20.300669</td>\n",
       "    </tr>\n",
       "  </tbody>\n",
       "</table>\n",
       "<p>5 rows × 36 columns</p>\n",
       "</div>"
      ],
      "text/plain": [
       "Bank Ticker        BAC                                               \\\n",
       "Stock Info        High        Low       Open      Close      Volume   \n",
       "Date                                                                  \n",
       "2006-01-03   47.180000  46.150002  46.919998  47.080002  16296700.0   \n",
       "2006-01-04   47.240002  46.450001  47.000000  46.580002  17757900.0   \n",
       "2006-01-05   46.830002  46.320000  46.580002  46.639999  14970700.0   \n",
       "2006-01-06   46.910000  46.349998  46.799999  46.570000  12599800.0   \n",
       "2006-01-09   46.970001  46.360001  46.720001  46.599998  15619400.0   \n",
       "\n",
       "Bank Ticker                      C                                      ...  \\\n",
       "Stock Info   Adj Close        High         Low        Open       Close  ...   \n",
       "Date                                                                    ...   \n",
       "2006-01-03   34.106030  493.799988  481.100006  490.000000  492.899994  ...   \n",
       "2006-01-04   33.743805  491.000000  483.500000  488.600006  483.799988  ...   \n",
       "2006-01-05   33.787273  487.799988  484.000000  484.399994  486.200012  ...   \n",
       "2006-01-06   33.736557  489.000000  482.000000  488.799988  486.200012  ...   \n",
       "2006-01-09   33.758305  487.399994  483.000000  486.000000  483.899994  ...   \n",
       "\n",
       "Bank Ticker         MS                                         WFC             \\\n",
       "Stock Info        Open      Close     Volume  Adj Close       High        Low   \n",
       "Date                                                                            \n",
       "2006-01-03   57.169998  58.310001  5377000.0  36.114265  31.975000  31.195000   \n",
       "2006-01-04   58.700001  58.349998  7977800.0  36.139030  31.820000  31.365000   \n",
       "2006-01-05   58.549999  58.509998  5778000.0  36.238129  31.555000  31.309999   \n",
       "2006-01-06   58.770000  58.570000  6889800.0  36.275284  31.775000  31.385000   \n",
       "2006-01-09   58.630001  59.189999  4144500.0  36.659290  31.825001  31.555000   \n",
       "\n",
       "Bank Ticker                                               \n",
       "Stock Info        Open      Close      Volume  Adj Close  \n",
       "Date                                                      \n",
       "2006-01-03   31.600000  31.900000  11016400.0  20.444866  \n",
       "2006-01-04   31.799999  31.530001  10870000.0  20.207739  \n",
       "2006-01-05   31.500000  31.495001  10158000.0  20.185299  \n",
       "2006-01-06   31.580000  31.680000   8403800.0  20.303871  \n",
       "2006-01-09   31.674999  31.674999   5619600.0  20.300669  \n",
       "\n",
       "[5 rows x 36 columns]"
      ]
     },
     "execution_count": 3,
     "metadata": {},
     "output_type": "execute_result"
    }
   ],
   "source": [
    "bank_stocks = pd.concat([BAC, C, GS, JPM, MS, WFC],axis=1,keys=tickers)\n",
    "bank_stocks.columns.names = ['Bank Ticker','Stock Info']\n",
    "bank_stocks.head()"
   ]
  },
  {
   "cell_type": "markdown",
   "id": "5f9d1e9c",
   "metadata": {},
   "source": [
    "### 2. Exploratory Data Analysis"
   ]
  },
  {
   "cell_type": "code",
   "execution_count": 4,
   "id": "3d074be2",
   "metadata": {},
   "outputs": [
    {
     "data": {
      "text/html": [
       "<div>\n",
       "<style scoped>\n",
       "    .dataframe tbody tr th:only-of-type {\n",
       "        vertical-align: middle;\n",
       "    }\n",
       "\n",
       "    .dataframe tbody tr th {\n",
       "        vertical-align: top;\n",
       "    }\n",
       "\n",
       "    .dataframe thead th {\n",
       "        text-align: right;\n",
       "    }\n",
       "</style>\n",
       "<table border=\"1\" class=\"dataframe\">\n",
       "  <thead>\n",
       "    <tr style=\"text-align: right;\">\n",
       "      <th></th>\n",
       "      <th>BAC Return</th>\n",
       "      <th>C Return</th>\n",
       "      <th>GS Return</th>\n",
       "      <th>JPM Return</th>\n",
       "      <th>MS Return</th>\n",
       "      <th>WFC Return</th>\n",
       "    </tr>\n",
       "    <tr>\n",
       "      <th>Date</th>\n",
       "      <th></th>\n",
       "      <th></th>\n",
       "      <th></th>\n",
       "      <th></th>\n",
       "      <th></th>\n",
       "      <th></th>\n",
       "    </tr>\n",
       "  </thead>\n",
       "  <tbody>\n",
       "    <tr>\n",
       "      <th>2006-01-03</th>\n",
       "      <td>NaN</td>\n",
       "      <td>NaN</td>\n",
       "      <td>NaN</td>\n",
       "      <td>NaN</td>\n",
       "      <td>NaN</td>\n",
       "      <td>NaN</td>\n",
       "    </tr>\n",
       "    <tr>\n",
       "      <th>2006-01-04</th>\n",
       "      <td>-0.010620</td>\n",
       "      <td>-0.018462</td>\n",
       "      <td>-0.013812</td>\n",
       "      <td>-0.014183</td>\n",
       "      <td>0.000686</td>\n",
       "      <td>-0.011599</td>\n",
       "    </tr>\n",
       "    <tr>\n",
       "      <th>2006-01-05</th>\n",
       "      <td>0.001288</td>\n",
       "      <td>0.004961</td>\n",
       "      <td>-0.000393</td>\n",
       "      <td>0.003029</td>\n",
       "      <td>0.002742</td>\n",
       "      <td>-0.001110</td>\n",
       "    </tr>\n",
       "    <tr>\n",
       "      <th>2006-01-06</th>\n",
       "      <td>-0.001501</td>\n",
       "      <td>0.000000</td>\n",
       "      <td>0.014169</td>\n",
       "      <td>0.007046</td>\n",
       "      <td>0.001025</td>\n",
       "      <td>0.005874</td>\n",
       "    </tr>\n",
       "    <tr>\n",
       "      <th>2006-01-09</th>\n",
       "      <td>0.000644</td>\n",
       "      <td>-0.004731</td>\n",
       "      <td>0.012030</td>\n",
       "      <td>0.016242</td>\n",
       "      <td>0.010586</td>\n",
       "      <td>-0.000158</td>\n",
       "    </tr>\n",
       "  </tbody>\n",
       "</table>\n",
       "</div>"
      ],
      "text/plain": [
       "            BAC Return  C Return  GS Return  JPM Return  MS Return  WFC Return\n",
       "Date                                                                          \n",
       "2006-01-03         NaN       NaN        NaN         NaN        NaN         NaN\n",
       "2006-01-04   -0.010620 -0.018462  -0.013812   -0.014183   0.000686   -0.011599\n",
       "2006-01-05    0.001288  0.004961  -0.000393    0.003029   0.002742   -0.001110\n",
       "2006-01-06   -0.001501  0.000000   0.014169    0.007046   0.001025    0.005874\n",
       "2006-01-09    0.000644 -0.004731   0.012030    0.016242   0.010586   -0.000158"
      ]
     },
     "execution_count": 4,
     "metadata": {},
     "output_type": "execute_result"
    }
   ],
   "source": [
    "bank_stocks.xs(key='Close',axis=1,level='Stock Info').max()\n",
    "returns = pd.DataFrame()\n",
    "for tick in tickers:\n",
    "    returns[tick+' Return'] = bank_stocks[tick]['Close'].pct_change()\n",
    "returns.head()"
   ]
  },
  {
   "cell_type": "code",
   "execution_count": 5,
   "id": "b740957f",
   "metadata": {},
   "outputs": [
    {
     "data": {
      "text/plain": [
       "<seaborn.axisgrid.PairGrid at 0x27406853c70>"
      ]
     },
     "execution_count": 5,
     "metadata": {},
     "output_type": "execute_result"
    },
    {
     "data": {
      "image/png": "[encoded data removed]",
      "text/plain": [
       "<Figure size 1080x1080 with 42 Axes>"
      ]
     },
     "metadata": {
      "needs_background": "light"
     },
     "output_type": "display_data"
    }
   ],
   "source": [
    "import seaborn as sns\n",
    "sns.pairplot(returns[1:])"
   ]
  },
  {
   "cell_type": "code",
   "execution_count": 6,
   "id": "c0416b55",
   "metadata": {},
   "outputs": [
    {
     "data": {
      "text/plain": [
       "BAC Return   2009-01-20\n",
       "C Return     2009-02-27\n",
       "GS Return    2009-01-20\n",
       "JPM Return   2009-01-20\n",
       "MS Return    2008-10-09\n",
       "WFC Return   2009-01-20\n",
       "dtype: datetime64[ns]"
      ]
     },
     "execution_count": 6,
     "metadata": {},
     "output_type": "execute_result"
    }
   ],
   "source": [
    "returns.idxmin()"
   ]
  },
  {
   "cell_type": "markdown",
   "id": "b790e670",
   "metadata": {},
   "source": [
    "We notice that 4 of the banks shared the same worst drop. 2009-01-20 was the first inauguration of Barack Obama as the 44th president."
   ]
  },
  {
   "cell_type": "code",
   "execution_count": 7,
   "id": "1f429823",
   "metadata": {},
   "outputs": [
    {
     "data": {
      "text/plain": [
       "BAC Return   2009-04-09\n",
       "C Return     2008-11-24\n",
       "GS Return    2008-11-24\n",
       "JPM Return   2009-01-21\n",
       "MS Return    2008-10-13\n",
       "WFC Return   2008-07-16\n",
       "dtype: datetime64[ns]"
      ]
     },
     "execution_count": 7,
     "metadata": {},
     "output_type": "execute_result"
    }
   ],
   "source": [
    "returns.idxmax()"
   ]
  },
  {
   "cell_type": "markdown",
   "id": "4e90dfd8",
   "metadata": {},
   "source": [
    "We notice that JPMorgan Chase's largest drop and gain were very close to one another. Such happening could been a result of JPMorgan Chase's CEO buying the company's stocks."
   ]
  },
  {
   "cell_type": "code",
   "execution_count": 8,
   "id": "8a374cb0",
   "metadata": {},
   "outputs": [
    {
     "data": {
      "text/plain": [
       "BAC Return    0.036647\n",
       "C Return      0.038672\n",
       "GS Return     0.025390\n",
       "JPM Return    0.027667\n",
       "MS Return     0.037819\n",
       "WFC Return    0.030238\n",
       "dtype: float64"
      ]
     },
     "execution_count": 8,
     "metadata": {},
     "output_type": "execute_result"
    }
   ],
   "source": [
    "returns.std()"
   ]
  },
  {
   "cell_type": "markdown",
   "id": "e815209b",
   "metadata": {},
   "source": [
    "In terms of volatility of the stock, Citigroup had the most volatility while Goldman Sachs should the most relative stability. Such analysis can be further specified into shorter time period. Look below for year 2013."
   ]
  },
  {
   "cell_type": "code",
   "execution_count": 9,
   "id": "ad04c71a",
   "metadata": {},
   "outputs": [
    {
     "data": {
      "text/plain": [
       "BAC Return    0.014828\n",
       "C Return      0.014454\n",
       "GS Return     0.013543\n",
       "JPM Return    0.012038\n",
       "MS Return     0.017797\n",
       "WFC Return    0.010024\n",
       "dtype: float64"
      ]
     },
     "execution_count": 9,
     "metadata": {},
     "output_type": "execute_result"
    }
   ],
   "source": [
    "returns.loc['2013-01-01':'2013-12-31'].std()"
   ]
  },
  {
   "cell_type": "markdown",
   "id": "571c44c0",
   "metadata": {},
   "source": [
    "### 3. Visualization"
   ]
  },
  {
   "cell_type": "code",
   "execution_count": 10,
   "id": "16deccf7",
   "metadata": {},
   "outputs": [
    {
     "data": {
      "text/html": [
       "        <script type=\"text/javascript\">\n",
       "        window.PlotlyConfig = {MathJaxConfig: 'local'};\n",
       "        if (window.MathJax) {MathJax.Hub.Config({SVG: {font: \"STIX-Web\"}});}\n",
       "        if (typeof require !== 'undefined') {\n",
       "        require.undef(\"plotly\");\n",
       "        requirejs.config({\n",
       "            paths: {\n",
       "                'plotly': ['https://cdn.plot.ly/plotly-2.4.2.min']\n",
       "            }\n",
       "        });\n",
       "        require(['plotly'], function(Plotly) {\n",
       "            window._Plotly = Plotly;\n",
       "        });\n",
       "        }\n",
       "        </script>\n",
       "        "
      ]
     },
     "metadata": {},
     "output_type": "display_data"
    }
   ],
   "source": [
    "import matplotlib.pyplot as plt\n",
    "import seaborn as sns\n",
    "sns.set_style('whitegrid')\n",
    "%matplotlib inline\n",
    "\n",
    "# Optional Plotly Method Imports\n",
    "import plotly\n",
    "import cufflinks as cf\n",
    "cf.go_offline()"
   ]
  },
  {
   "cell_type": "markdown",
   "id": "c328be61",
   "metadata": {},
   "source": [
    "* Create a line plot showing the closing price for each bank"
   ]
  },
  {
   "cell_type": "code",
   "execution_count": 11,
   "id": "3dd988ef",
   "metadata": {},
   "outputs": [
    {
     "data": {
      "text/plain": [
       "<matplotlib.legend.Legend at 0x2740ce98640>"
      ]
     },
     "execution_count": 11,
     "metadata": {},
     "output_type": "execute_result"
    },
    {
     "data": {
      "image/png": "[encoded data removed]",
      "text/plain": [
       "<Figure size 864x288 with 1 Axes>"
      ]
     },
     "metadata": {
      "needs_background": "light"
     },
     "output_type": "display_data"
    }
   ],
   "source": [
    "for tick in tickers:\n",
    "    bank_stocks[tick]['Close'].plot(figsize=(12,4),label=tick)\n",
    "plt.legend()"
   ]
  },
  {
   "cell_type": "markdown",
   "id": "281729e8",
   "metadata": {},
   "source": [
    "In our previous finding, we noticed that Citigroup was the most volatile and Goldman Sachs was the most stable bank stock. Lets compare their moving averages for the year 2008."
   ]
  },
  {
   "cell_type": "code",
   "execution_count": 12,
   "id": "443c908d",
   "metadata": {},
   "outputs": [
    {
     "data": {
      "text/plain": [
       "<matplotlib.legend.Legend at 0x2740d0ec7c0>"
      ]
     },
     "execution_count": 12,
     "metadata": {},
     "output_type": "execute_result"
    },
    {
     "data": {
      "image/png": "[encoded data removed]",
      "text/plain": [
       "<Figure size 864x432 with 1 Axes>"
      ]
     },
     "metadata": {
      "needs_background": "light"
     },
     "output_type": "display_data"
    }
   ],
   "source": [
    "plt.figure(figsize=(12,6))\n",
    "C['Close'].loc['2008-01-01':'2009-01-01'].rolling(window=30).mean().plot(label='30 Day Avg: C')\n",
    "C['Close'].loc['2008-01-01':'2009-01-01'].plot(label='C CLOSE')\n",
    "GS['Close'].loc['2008-01-01':'2009-01-01'].rolling(window=30).mean().plot(label='30 Day Avg: GS')\n",
    "GS['Close'].loc['2008-01-01':'2009-01-01'].plot(label='GS CLOSE')\n",
    "plt.legend()"
   ]
  },
  {
   "cell_type": "markdown",
   "id": "3022f15b",
   "metadata": {},
   "source": [
    "* Create a heatmap of the correlation between the stocks' close price"
   ]
  },
  {
   "cell_type": "code",
   "execution_count": 13,
   "id": "11a58d5f",
   "metadata": {},
   "outputs": [
    {
     "data": {
      "text/plain": [
       "<seaborn.matrix.ClusterGrid at 0x2740d0c8ac0>"
      ]
     },
     "execution_count": 13,
     "metadata": {},
     "output_type": "execute_result"
    },
    {
     "data": {
      "image/png": "[encoded data removed]",
      "text/plain": [
       "<Figure size 720x720 with 4 Axes>"
      ]
     },
     "metadata": {
      "needs_background": "light"
     },
     "output_type": "display_data"
    }
   ],
   "source": [
    "sns.clustermap(bank_stocks.xs(key='Close',axis=1,level='Stock Info').corr(),annot=True)"
   ]
  },
  {
   "cell_type": "markdown",
   "id": "800bd37d",
   "metadata": {},
   "source": [
    "* Create a Bollinger Band Plot for Citigroup for the year 2009(bigest drop)"
   ]
  },
  {
   "cell_type": "code",
   "execution_count": 14,
   "id": "23e67265",
   "metadata": {},
   "outputs": [
    {
     "data": {
      "application/vnd.plotly.v1+json": {
       "config": {
        "linkText": "Export to plot.ly",
        "plotlyServerURL": "https://plot.ly",
        "showLink": true
       },
       "data": [
        {
         "line": {
          "color": "rgba(255, 153, 51, 1.0)",
          "dash": "solid",
          "shape": "linear",
          "width": 1.3
         },
         "mode": "lines",
         "name": "Close",
         "text": "",
         "type": "scatter",
         "x": [
          "2009-01-02",
          "2009-01-05",
          "2009-01-06",
          "2009-01-07",
          "2009-01-08",
          "2009-01-09",
          "2009-01-12",
          "2009-01-13",
          "2009-01-14",
          "2009-01-15",
          "2009-01-16",
          "2009-01-20",
          "2009-01-21",
          "2009-01-22",
          "2009-01-23",
          "2009-01-26",
          "2009-01-27",
          "2009-01-28",
          "2009-01-29",
          "2009-01-30",
          "2009-02-02",
          "2009-02-03",
          "2009-02-04",
          "2009-02-05",
          "2009-02-06",
          "2009-02-09",
          "2009-02-10",
          "2009-02-11",
          "2009-02-12",
          "2009-02-13",
          "2009-02-17",
          "2009-02-18",
          "2009-02-19",
          "2009-02-20",
          "2009-02-23",
          "2009-02-24",
          "2009-02-25",
          "2009-02-26",
          "2009-02-27",
          "2009-03-02",
          "2009-03-03",
          "2009-03-04",
          "2009-03-05",
          "2009-03-06",
          "2009-03-09",
          "2009-03-10",
          "2009-03-11",
          "2009-03-12",
          "2009-03-13",
          "2009-03-16",
          "2009-03-17",
          "2009-03-18",
          "2009-03-19",
          "2009-03-20",
          "2009-03-23",
          "2009-03-24",
          "2009-03-25",
          "2009-03-26",
          "2009-03-27",
          "2009-03-30",
          "2009-03-31",
          "2009-04-01",
          "2009-04-02",
          "2009-04-03",
          "2009-04-06",
          "2009-04-07",
          "2009-04-08",
          "2009-04-09",
          "2009-04-13",
          "2009-04-14",
          "2009-04-15",
          "2009-04-16",
          "2009-04-17",
          "2009-04-20",
          "2009-04-21",
          "2009-04-22",
          "2009-04-23",
          "2009-04-24",
          "2009-04-27",
          "2009-04-28",
          "2009-04-29",
          "2009-04-30",
          "2009-05-01",
          "2009-05-04",
          "2009-05-05",
          "2009-05-06",
          "2009-05-07",
          "2009-05-08",
          "2009-05-11",
          "2009-05-12",
          "2009-05-13",
          "2009-05-14",
          "2009-05-15",
          "2009-05-18",
          "2009-05-19",
          "2009-05-20",
          "2009-05-21",
          "2009-05-22",
          "2009-05-26",
          "2009-05-27",
          "2009-05-28",
          "2009-05-29",
          "2009-06-01",
          "2009-06-02",
          "2009-06-03",
          "2009-06-04",
          "2009-06-05",
          "2009-06-08",
          "2009-06-09",
          "2009-06-10",
          "2009-06-11",
          "2009-06-12",
          "2009-06-15",
          "2009-06-16",
          "2009-06-17",
          "2009-06-18",
          "2009-06-19",
          "2009-06-22",
          "2009-06-23",
          "2009-06-24",
          "2009-06-25",
          "2009-06-26",
          "2009-06-29",
          "2009-06-30",
          "2009-07-01",
          "2009-07-02",
          "2009-07-06",
          "2009-07-07",
          "2009-07-08",
          "2009-07-09",
          "2009-07-10",
          "2009-07-13",
          "2009-07-14",
          "2009-07-15",
          "2009-07-16",
          "2009-07-17",
          "2009-07-20",
          "2009-07-21",
          "2009-07-22",
          "2009-07-23",
          "2009-07-24",
          "2009-07-27",
          "2009-07-28",
          "2009-07-29",
          "2009-07-30",
          "2009-07-31",
          "2009-08-03",
          "2009-08-04",
          "2009-08-05",
          "2009-08-06",
          "2009-08-07",
          "2009-08-10",
          "2009-08-11",
          "2009-08-12",
          "2009-08-13",
          "2009-08-14",
          "2009-08-17",
          "2009-08-18",
          "2009-08-19",
          "2009-08-20",
          "2009-08-21",
          "2009-08-24",
          "2009-08-25",
          "2009-08-26",
          "2009-08-27",
          "2009-08-28",
          "2009-08-31",
          "2009-09-01",
          "2009-09-02",
          "2009-09-03",
          "2009-09-04",
          "2009-09-08",
          "2009-09-09",
          "2009-09-10",
          "2009-09-11",
          "2009-09-14",
          "2009-09-15",
          "2009-09-16",
          "2009-09-17",
          "2009-09-18",
          "2009-09-21",
          "2009-09-22",
          "2009-09-23",
          "2009-09-24",
          "2009-09-25",
          "2009-09-28",
          "2009-09-29",
          "2009-09-30",
          "2009-10-01",
          "2009-10-02",
          "2009-10-05",
          "2009-10-06",
          "2009-10-07",
          "2009-10-08",
          "2009-10-09",
          "2009-10-12",
          "2009-10-13",
          "2009-10-14",
          "2009-10-15",
          "2009-10-16",
          "2009-10-19",
          "2009-10-20",
          "2009-10-21",
          "2009-10-22",
          "2009-10-23",
          "2009-10-26",
          "2009-10-27",
          "2009-10-28",
          "2009-10-29",
          "2009-10-30",
          "2009-11-02",
          "2009-11-03",
          "2009-11-04",
          "2009-11-05",
          "2009-11-06",
          "2009-11-09",
          "2009-11-10",
          "2009-11-11",
          "2009-11-12",
          "2009-11-13",
          "2009-11-16",
          "2009-11-17",
          "2009-11-18",
          "2009-11-19",
          "2009-11-20",
          "2009-11-23",
          "2009-11-24",
          "2009-11-25",
          "2009-11-27",
          "2009-11-30",
          "2009-12-01",
          "2009-12-02",
          "2009-12-03",
          "2009-12-04",
          "2009-12-07",
          "2009-12-08",
          "2009-12-09",
          "2009-12-10",
          "2009-12-11",
          "2009-12-14",
          "2009-12-15",
          "2009-12-16",
          "2009-12-17",
          "2009-12-18",
          "2009-12-21",
          "2009-12-22",
          "2009-12-23",
          "2009-12-24",
          "2009-12-28",
          "2009-12-29",
          "2009-12-30",
          "2009-12-31"
         ],
         "y": [
          71.4000015258789,
          70.80000305175781,
          74.5999984741211,
          71.5,
          71.5999984741211,
          67.5,
          56,
          59,
          45.29999923706055,
          38.29999923706055,
          35,
          28,
          36.70000076293945,
          31.100000381469727,
          34.70000076293945,
          33.29999923706055,
          35.5,
          42.099998474121094,
          39,
          35.5,
          36.5,
          34.599998474121094,
          34.900001525878906,
          35.29999923706055,
          39.099998474121094,
          39.5,
          33.5,
          36.900001525878906,
          36.099998474121094,
          34.900001525878906,
          30.600000381469727,
          29.100000381469727,
          25.100000381469727,
          19.5,
          21.399999618530273,
          26,
          25.200000762939453,
          24.600000381469727,
          15,
          12,
          12.199999809265137,
          11.300000190734863,
          10.199999809265137,
          10.300000190734863,
          10.5,
          14.5,
          15.399999618530273,
          16.700000762939453,
          17.799999237060547,
          23.299999237060547,
          25.100000381469727,
          30.799999237060547,
          26,
          26.200000762939453,
          31.299999237060547,
          30.100000381469727,
          29.5,
          28.100000381469727,
          26.200000762939453,
          23.100000381469727,
          25.299999237060547,
          26.799999237060547,
          27.399999618530273,
          28.5,
          27.200000762939453,
          27.600000381469727,
          27,
          30.399999618530273,
          38,
          40.099998474121094,
          39.70000076293945,
          40.099998474121094,
          36.5,
          29.399999618530273,
          32.400001525878906,
          32.5,
          32,
          31.899999618530273,
          30.700000762939453,
          28.899999618530273,
          31.200000762939453,
          30.5,
          29.700000762939453,
          32,
          33.099998474121094,
          38.599998474121094,
          38.099998474121094,
          40.20000076293945,
          38.599998474121094,
          36.599998474121094,
          34.099998474121094,
          35.5,
          34.79999923706055,
          36.400001525878906,
          37.70000076293945,
          36.900001525878906,
          37.20000076293945,
          36.70000076293945,
          37.70000076293945,
          37,
          36.70000076293945,
          37.20000076293945,
          36.900001525878906,
          35.099998474121094,
          33.900001525878906,
          35.70000076293945,
          34.599998474121094,
          34.20000076293945,
          34.099998474121094,
          34.79999923706055,
          34.79999923706055,
          34.70000076293945,
          33.70000076293945,
          32.5,
          30.799999237060547,
          31.299999237060547,
          31.700000762939453,
          30,
          30.100000381469727,
          30.399999618530273,
          30.299999237060547,
          30.299999237060547,
          30.200000762939453,
          29.700000762939453,
          29.700000762939453,
          28.799999237060547,
          27.899999618530273,
          26.899999618530273,
          26.200000762939453,
          26.899999618530273,
          25.899999618530273,
          27.799999237060547,
          29.200000762939453,
          31.700000762939453,
          30.299999237060547,
          30.200000762939453,
          27.899999618530273,
          26.5,
          28,
          27.700000762939453,
          27.299999237060547,
          26.899999618530273,
          29.700000762939453,
          32.20000076293945,
          31.399999618530273,
          31.700000762939453,
          31.799999237060547,
          32.5,
          35.79999923706055,
          38,
          38.5,
          39.400001525878906,
          36.900001525878906,
          39.79999923706055,
          40.599998474121094,
          40.400001525878906,
          40,
          41.400001525878906,
          41.29999923706055,
          44.79999923706055,
          47,
          48.20000076293945,
          47.5,
          46.29999923706055,
          50.5,
          52.29999923706055,
          50,
          45.400001525878906,
          45.599998474121094,
          47.70000076293945,
          48.5,
          46.79999923706055,
          46.599998474121094,
          47.5,
          46.099998474121094,
          45.20000076293945,
          41.20000076293945,
          42,
          44.20000076293945,
          42.599998474121094,
          44.29999923706055,
          46.5,
          45.20000076293945,
          44.29999923706055,
          43.79999923706055,
          45.70000076293945,
          47,
          48.400001525878906,
          45.29999923706055,
          45.20000076293945,
          46.70000076293945,
          46.70000076293945,
          46.400001525878906,
          46.5,
          46.29999923706055,
          47.70000076293945,
          48.29999923706055,
          50,
          47.5,
          45.900001525878906,
          45.400001525878906,
          44.29999923706055,
          44.20000076293945,
          44.599998474121094,
          44.599998474121094,
          42.70000076293945,
          42.70000076293945,
          40.79999923706055,
          43.099998474121094,
          40.900001525878906,
          39.900001525878906,
          40.400001525878906,
          39.70000076293945,
          40.599998474121094,
          40.599998474121094,
          41.900001525878906,
          41.79999923706055,
          41.599998474121094,
          40.599998474121094,
          40.5,
          41.79999923706055,
          42.400001525878906,
          42.900001525878906,
          42.599998474121094,
          42,
          42.79999923706055,
          42.099998474121094,
          41.70000076293945,
          40.599998474121094,
          41.099998474121094,
          41,
          41,
          40.5,
          40.599998474121094,
          40.29999923706055,
          39.099998474121094,
          38.599998474121094,
          38.70000076293945,
          39.5,
          37,
          35.599998474121094,
          34.5,
          32,
          34,
          34.20000076293945,
          33.400001525878906,
          32.900001525878906,
          33.5,
          33.900001525878906,
          33.70000076293945,
          33.20000076293945,
          33.099998474121094
         ]
        },
        {
         "line": {
          "color": "rgba(55, 128, 191, 1.0)",
          "dash": "solid",
          "shape": "linear",
          "width": 1.3
         },
         "mode": "lines",
         "name": "SMA(14)",
         "text": "",
         "type": "scatter",
         "x": [
          "2009-01-02",
          "2009-01-05",
          "2009-01-06",
          "2009-01-07",
          "2009-01-08",
          "2009-01-09",
          "2009-01-12",
          "2009-01-13",
          "2009-01-14",
          "2009-01-15",
          "2009-01-16",
          "2009-01-20",
          "2009-01-21",
          "2009-01-22",
          "2009-01-23",
          "2009-01-26",
          "2009-01-27",
          "2009-01-28",
          "2009-01-29",
          "2009-01-30",
          "2009-02-02",
          "2009-02-03",
          "2009-02-04",
          "2009-02-05",
          "2009-02-06",
          "2009-02-09",
          "2009-02-10",
          "2009-02-11",
          "2009-02-12",
          "2009-02-13",
          "2009-02-17",
          "2009-02-18",
          "2009-02-19",
          "2009-02-20",
          "2009-02-23",
          "2009-02-24",
          "2009-02-25",
          "2009-02-26",
          "2009-02-27",
          "2009-03-02",
          "2009-03-03",
          "2009-03-04",
          "2009-03-05",
          "2009-03-06",
          "2009-03-09",
          "2009-03-10",
          "2009-03-11",
          "2009-03-12",
          "2009-03-13",
          "2009-03-16",
          "2009-03-17",
          "2009-03-18",
          "2009-03-19",
          "2009-03-20",
          "2009-03-23",
          "2009-03-24",
          "2009-03-25",
          "2009-03-26",
          "2009-03-27",
          "2009-03-30",
          "2009-03-31",
          "2009-04-01",
          "2009-04-02",
          "2009-04-03",
          "2009-04-06",
          "2009-04-07",
          "2009-04-08",
          "2009-04-09",
          "2009-04-13",
          "2009-04-14",
          "2009-04-15",
          "2009-04-16",
          "2009-04-17",
          "2009-04-20",
          "2009-04-21",
          "2009-04-22",
          "2009-04-23",
          "2009-04-24",
          "2009-04-27",
          "2009-04-28",
          "2009-04-29",
          "2009-04-30",
          "2009-05-01",
          "2009-05-04",
          "2009-05-05",
          "2009-05-06",
          "2009-05-07",
          "2009-05-08",
          "2009-05-11",
          "2009-05-12",
          "2009-05-13",
          "2009-05-14",
          "2009-05-15",
          "2009-05-18",
          "2009-05-19",
          "2009-05-20",
          "2009-05-21",
          "2009-05-22",
          "2009-05-26",
          "2009-05-27",
          "2009-05-28",
          "2009-05-29",
          "2009-06-01",
          "2009-06-02",
          "2009-06-03",
          "2009-06-04",
          "2009-06-05",
          "2009-06-08",
          "2009-06-09",
          "2009-06-10",
          "2009-06-11",
          "2009-06-12",
          "2009-06-15",
          "2009-06-16",
          "2009-06-17",
          "2009-06-18",
          "2009-06-19",
          "2009-06-22",
          "2009-06-23",
          "2009-06-24",
          "2009-06-25",
          "2009-06-26",
          "2009-06-29",
          "2009-06-30",
          "2009-07-01",
          "2009-07-02",
          "2009-07-06",
          "2009-07-07",
          "2009-07-08",
          "2009-07-09",
          "2009-07-10",
          "2009-07-13",
          "2009-07-14",
          "2009-07-15",
          "2009-07-16",
          "2009-07-17",
          "2009-07-20",
          "2009-07-21",
          "2009-07-22",
          "2009-07-23",
          "2009-07-24",
          "2009-07-27",
          "2009-07-28",
          "2009-07-29",
          "2009-07-30",
          "2009-07-31",
          "2009-08-03",
          "2009-08-04",
          "2009-08-05",
          "2009-08-06",
          "2009-08-07",
          "2009-08-10",
          "2009-08-11",
          "2009-08-12",
          "2009-08-13",
          "2009-08-14",
          "2009-08-17",
          "2009-08-18",
          "2009-08-19",
          "2009-08-20",
          "2009-08-21",
          "2009-08-24",
          "2009-08-25",
          "2009-08-26",
          "2009-08-27",
          "2009-08-28",
          "2009-08-31",
          "2009-09-01",
          "2009-09-02",
          "2009-09-03",
          "2009-09-04",
          "2009-09-08",
          "2009-09-09",
          "2009-09-10",
          "2009-09-11",
          "2009-09-14",
          "2009-09-15",
          "2009-09-16",
          "2009-09-17",
          "2009-09-18",
          "2009-09-21",
          "2009-09-22",
          "2009-09-23",
          "2009-09-24",
          "2009-09-25",
          "2009-09-28",
          "2009-09-29",
          "2009-09-30",
          "2009-10-01",
          "2009-10-02",
          "2009-10-05",
          "2009-10-06",
          "2009-10-07",
          "2009-10-08",
          "2009-10-09",
          "2009-10-12",
          "2009-10-13",
          "2009-10-14",
          "2009-10-15",
          "2009-10-16",
          "2009-10-19",
          "2009-10-20",
          "2009-10-21",
          "2009-10-22",
          "2009-10-23",
          "2009-10-26",
          "2009-10-27",
          "2009-10-28",
          "2009-10-29",
          "2009-10-30",
          "2009-11-02",
          "2009-11-03",
          "2009-11-04",
          "2009-11-05",
          "2009-11-06",
          "2009-11-09",
          "2009-11-10",
          "2009-11-11",
          "2009-11-12",
          "2009-11-13",
          "2009-11-16",
          "2009-11-17",
          "2009-11-18",
          "2009-11-19",
          "2009-11-20",
          "2009-11-23",
          "2009-11-24",
          "2009-11-25",
          "2009-11-27",
          "2009-11-30",
          "2009-12-01",
          "2009-12-02",
          "2009-12-03",
          "2009-12-04",
          "2009-12-07",
          "2009-12-08",
          "2009-12-09",
          "2009-12-10",
          "2009-12-11",
          "2009-12-14",
          "2009-12-15",
          "2009-12-16",
          "2009-12-17",
          "2009-12-18",
          "2009-12-21",
          "2009-12-22",
          "2009-12-23",
          "2009-12-24",
          "2009-12-28",
          "2009-12-29",
          "2009-12-30",
          "2009-12-31"
         ],
         "y": [
          "",
          "",
          "",
          "",
          "",
          "",
          "",
          "",
          "",
          "",
          "",
          "",
          "",
          54.05714293888637,
          51.435714312962126,
          48.75714261191232,
          45.96428557804653,
          43.864285469055176,
          41.5357141494751,
          39.24999986376081,
          37.85714272090367,
          36.114285469055176,
          35.37142848968506,
          35.15714277539934,
          35.44999980926514,
          36.271428380693706,
          36.042856897626606,
          36.45714269365583,
          36.557142530168804,
          36.67142840794155,
          36.32142843518938,
          35.392857142857146,
          34.400000027247835,
          33.257142884390696,
          32.17857142857143,
          31.564285823277064,
          30.871428625924246,
          30.107142993382045,
          28.385714530944824,
          26.42142881665911,
          24.90000023160662,
          23.07142870766776,
          21.22142880303519,
          19.464285850524902,
          18.02857153756278,
          16.9857143674578,
          16.29285717010498,
          16.092857224600657,
          15.835714340209961,
          15.642857142857142,
          15.635714258466448,
          16.078571319580078,
          16.864285605294363,
          17.878571374075754,
          19.24285704748971,
          20.585714203970774,
          21.964285646166122,
          23.235714231218612,
          24.357142857142858,
          24.971428598676408,
          25.678571428571427,
          26.39999989100865,
          27.085714203970774,
          27.45714282989502,
          27.607142857142858,
          27.37857151031494,
          27.450000081743514,
          27.75,
          28.228571483067103,
          28.94285706111363,
          29.671428544180735,
          30.528571265084402,
          31.264285496303014,
          31.714285441807338,
          32.221428462437224,
          32.628571374075754,
          32.95714282989502,
          33.199999945504324,
          33.449999945504324,
          33.54285703386579,
          33.84285708836147,
          33.849999972752165,
          33.257142884390696,
          32.67857156481062,
          32.20714282989502,
          32.099999972752165,
          32.21428557804653,
          32.98571423121861,
          33.42857115609305,
          33.72142818995884,
          33.8714280809675,
          34.128570965358186,
          34.42142799922398,
          34.95714242117746,
          35.42142813546317,
          35.87857110159738,
          36.414285387311665,
          36.749999727521626,
          37.07857131958008,
          36.964285714285715,
          36.86428587777274,
          36.65000016348703,
          36.52857181004116,
          36.421428952898296,
          36.407143456595286,
          36.42142922537668,
          36.407143456595286,
          36.250000544956755,
          35.99285752432687,
          35.842857360839844,
          35.67142868041992,
          35.528571537562776,
          35.24285725184849,
          34.92142868041992,
          34.5,
          34.07857131958008,
          33.70714269365583,
          33.34285708836147,
          33.07142843518938,
          32.69285692487444,
          32.38571412222726,
          32.10714258466448,
          31.828571319580078,
          31.464285714285715,
          31.10000010899135,
          30.678571428571427,
          30.2642856325422,
          29.864285605294363,
          29.535714285714285,
          29.221428598676408,
          28.80714280264718,
          28.64999989100865,
          28.585714203970774,
          28.678571428571427,
          28.678571428571427,
          28.671428680419922,
          28.507142884390696,
          28.278571401323592,
          28.157142775399343,
          28.078571455819265,
          28.035714285714285,
          28.035714285714285,
          28.285714285714285,
          28.664285796029226,
          29.05714293888637,
          29.335714476449148,
          29.521428653172084,
          29.578571455819265,
          29.971428598676408,
          30.528571401323592,
          31.285714285714285,
          32.20714296613421,
          32.842857360839844,
          33.70714296613421,
          34.65714291163853,
          35.62142876216343,
          36.35714299338205,
          37.01428590502058,
          37.7214287349156,
          38.65714291163853,
          39.74285725184849,
          40.86428587777274,
          41.7000002179827,
          42.29285730634417,
          43.15000016348703,
          44.07142857142857,
          45.00714274815151,
          45.40714291163853,
          45.76428576878139,
          46.285714285714285,
          46.892857142857146,
          47.2785712650844,
          47.657142639160156,
          47.84999983651297,
          47.78571401323591,
          47.571428298950195,
          47.12142835344587,
          46.81428555079869,
          46.36428560529436,
          45.67142840794155,
          45.26428549630301,
          45.34285681588309,
          45.31428555079869,
          45.071428298950195,
          44.735713958740234,
          44.657142639160156,
          44.68571417672293,
          44.75,
          44.692857197352815,
          44.692857197352815,
          45.08571434020996,
          45.42142868041992,
          45.57857159205845,
          45.857143129621235,
          46.000000272478374,
          46.085714612688335,
          46.30714307512556,
          46.71428598676409,
          46.97857175554548,
          46.99285752432687,
          46.8785719190325,
          46.585714612688335,
          46.50714329310826,
          46.46428598676409,
          46.31428582327707,
          46.028571537562776,
          45.76428576878139,
          45.357142857142854,
          45.128571374075754,
          44.642857142857146,
          44.04285730634417,
          43.357143129621235,
          42.80000032697405,
          42.42142868041992,
          42.07857131958008,
          41.90714291163853,
          41.73571423121861,
          41.52142851693289,
          41.23571423121861,
          41.07857131958008,
          41.01428549630301,
          41.128571374075754,
          41.11428587777274,
          41.23571423121861,
          41.38571412222726,
          41.557142530168804,
          41.72857093811035,
          41.807142530168804,
          41.807142530168804,
          41.749999455043245,
          41.69285665239607,
          41.64999961853027,
          41.642856870378765,
          41.64999961853027,
          41.54285676138742,
          41.30714225769043,
          40.99999918256487,
          40.72142791748047,
          40.54285648890904,
          40.128570829119,
          39.664285114833284,
          39.1499993460519,
          38.53571374075754,
          38.02857099260603,
          37.54285676138742,
          36.999999727521626,
          36.45714269365583,
          35.949999945504324,
          35.49285725184849,
          35.107143129621235,
          34.72142900739397,
          34.32142884390695
         ]
        },
        {
         "line": {
          "color": "rgba(55, 128, 191, 0.8999999999999999)",
          "dash": "solid",
          "shape": "linear",
          "width": 1.3
         },
         "mode": "lines",
         "name": "UPPER(14)",
         "text": "",
         "type": "scatter",
         "x": [
          "2009-01-02",
          "2009-01-05",
          "2009-01-06",
          "2009-01-07",
          "2009-01-08",
          "2009-01-09",
          "2009-01-12",
          "2009-01-13",
          "2009-01-14",
          "2009-01-15",
          "2009-01-16",
          "2009-01-20",
          "2009-01-21",
          "2009-01-22",
          "2009-01-23",
          "2009-01-26",
          "2009-01-27",
          "2009-01-28",
          "2009-01-29",
          "2009-01-30",
          "2009-02-02",
          "2009-02-03",
          "2009-02-04",
          "2009-02-05",
          "2009-02-06",
          "2009-02-09",
          "2009-02-10",
          "2009-02-11",
          "2009-02-12",
          "2009-02-13",
          "2009-02-17",
          "2009-02-18",
          "2009-02-19",
          "2009-02-20",
          "2009-02-23",
          "2009-02-24",
          "2009-02-25",
          "2009-02-26",
          "2009-02-27",
          "2009-03-02",
          "2009-03-03",
          "2009-03-04",
          "2009-03-05",
          "2009-03-06",
          "2009-03-09",
          "2009-03-10",
          "2009-03-11",
          "2009-03-12",
          "2009-03-13",
          "2009-03-16",
          "2009-03-17",
          "2009-03-18",
          "2009-03-19",
          "2009-03-20",
          "2009-03-23",
          "2009-03-24",
          "2009-03-25",
          "2009-03-26",
          "2009-03-27",
          "2009-03-30",
          "2009-03-31",
          "2009-04-01",
          "2009-04-02",
          "2009-04-03",
          "2009-04-06",
          "2009-04-07",
          "2009-04-08",
          "2009-04-09",
          "2009-04-13",
          "2009-04-14",
          "2009-04-15",
          "2009-04-16",
          "2009-04-17",
          "2009-04-20",
          "2009-04-21",
          "2009-04-22",
          "2009-04-23",
          "2009-04-24",
          "2009-04-27",
          "2009-04-28",
          "2009-04-29",
          "2009-04-30",
          "2009-05-01",
          "2009-05-04",
          "2009-05-05",
          "2009-05-06",
          "2009-05-07",
          "2009-05-08",
          "2009-05-11",
          "2009-05-12",
          "2009-05-13",
          "2009-05-14",
          "2009-05-15",
          "2009-05-18",
          "2009-05-19",
          "2009-05-20",
          "2009-05-21",
          "2009-05-22",
          "2009-05-26",
          "2009-05-27",
          "2009-05-28",
          "2009-05-29",
          "2009-06-01",
          "2009-06-02",
          "2009-06-03",
          "2009-06-04",
          "2009-06-05",
          "2009-06-08",
          "2009-06-09",
          "2009-06-10",
          "2009-06-11",
          "2009-06-12",
          "2009-06-15",
          "2009-06-16",
          "2009-06-17",
          "2009-06-18",
          "2009-06-19",
          "2009-06-22",
          "2009-06-23",
          "2009-06-24",
          "2009-06-25",
          "2009-06-26",
          "2009-06-29",
          "2009-06-30",
          "2009-07-01",
          "2009-07-02",
          "2009-07-06",
          "2009-07-07",
          "2009-07-08",
          "2009-07-09",
          "2009-07-10",
          "2009-07-13",
          "2009-07-14",
          "2009-07-15",
          "2009-07-16",
          "2009-07-17",
          "2009-07-20",
          "2009-07-21",
          "2009-07-22",
          "2009-07-23",
          "2009-07-24",
          "2009-07-27",
          "2009-07-28",
          "2009-07-29",
          "2009-07-30",
          "2009-07-31",
          "2009-08-03",
          "2009-08-04",
          "2009-08-05",
          "2009-08-06",
          "2009-08-07",
          "2009-08-10",
          "2009-08-11",
          "2009-08-12",
          "2009-08-13",
          "2009-08-14",
          "2009-08-17",
          "2009-08-18",
          "2009-08-19",
          "2009-08-20",
          "2009-08-21",
          "2009-08-24",
          "2009-08-25",
          "2009-08-26",
          "2009-08-27",
          "2009-08-28",
          "2009-08-31",
          "2009-09-01",
          "2009-09-02",
          "2009-09-03",
          "2009-09-04",
          "2009-09-08",
          "2009-09-09",
          "2009-09-10",
          "2009-09-11",
          "2009-09-14",
          "2009-09-15",
          "2009-09-16",
          "2009-09-17",
          "2009-09-18",
          "2009-09-21",
          "2009-09-22",
          "2009-09-23",
          "2009-09-24",
          "2009-09-25",
          "2009-09-28",
          "2009-09-29",
          "2009-09-30",
          "2009-10-01",
          "2009-10-02",
          "2009-10-05",
          "2009-10-06",
          "2009-10-07",
          "2009-10-08",
          "2009-10-09",
          "2009-10-12",
          "2009-10-13",
          "2009-10-14",
          "2009-10-15",
          "2009-10-16",
          "2009-10-19",
          "2009-10-20",
          "2009-10-21",
          "2009-10-22",
          "2009-10-23",
          "2009-10-26",
          "2009-10-27",
          "2009-10-28",
          "2009-10-29",
          "2009-10-30",
          "2009-11-02",
          "2009-11-03",
          "2009-11-04",
          "2009-11-05",
          "2009-11-06",
          "2009-11-09",
          "2009-11-10",
          "2009-11-11",
          "2009-11-12",
          "2009-11-13",
          "2009-11-16",
          "2009-11-17",
          "2009-11-18",
          "2009-11-19",
          "2009-11-20",
          "2009-11-23",
          "2009-11-24",
          "2009-11-25",
          "2009-11-27",
          "2009-11-30",
          "2009-12-01",
          "2009-12-02",
          "2009-12-03",
          "2009-12-04",
          "2009-12-07",
          "2009-12-08",
          "2009-12-09",
          "2009-12-10",
          "2009-12-11",
          "2009-12-14",
          "2009-12-15",
          "2009-12-16",
          "2009-12-17",
          "2009-12-18",
          "2009-12-21",
          "2009-12-22",
          "2009-12-23",
          "2009-12-24",
          "2009-12-28",
          "2009-12-29",
          "2009-12-30",
          "2009-12-31"
         ],
         "y": [
          "",
          "",
          "",
          "",
          "",
          "",
          "",
          "",
          "",
          "",
          "",
          "",
          "",
          89.22467305932315,
          86.50563170747535,
          83.17830841095102,
          77.5839097376922,
          71.87786487599702,
          64.60052002085379,
          56.94915217329945,
          52.7199435331407,
          44.68969056941013,
          42.12804458051104,
          41.70058968213254,
          42.32190404510085,
          41.953479642249704,
          41.90523389817662,
          41.58907190346866,
          41.59528233596256,
          41.45757982455994,
          42.09200477027247,
          41.33900697506126,
          42.12687570450268,
          44.30325966415212,
          44.70968417276484,
          44.42295111072865,
          43.99836566283176,
          43.3686461693423,
          42.82324215315218,
          41.7975702206516,
          41.43081107689255,
          39.54769214705661,
          37.20491683740545,
          34.340515458578174,
          32.135074111792626,
          29.65156383294935,
          28.077192301938616,
          27.736928719795934,
          27.128627872854764,
          26.260031816272225,
          26.225290314750993,
          28.62146441442514,
          30.450841371816985,
          32.01008075563941,
          34.64369875113138,
          36.278898695891584,
          37.10863851127307,
          37.0960298909067,
          36.16762432307182,
          35.38545124231071,
          34.51840369234962,
          33.57517085611705,
          32.28266997771598,
          32.213168081666474,
          32.17152921041597,
          31.5585076579771,
          31.562083347630974,
          32.07648349692733,
          35.02423909220317,
          38.230967700968854,
          40.60266185166133,
          42.736368566185206,
          43.58927082747697,
          43.1856828776883,
          43.082842729367684,
          43.03224723262792,
          42.931174381097286,
          42.86739093809936,
          42.61708091172581,
          42.47808132387199,
          42.08709525345737,
          42.08155214274275,
          41.39620814914651,
          39.811670034985866,
          38.10705825896427,
          37.4071787252217,
          37.97882173237237,
          39.90318623961171,
          40.951838210558336,
          41.40644901994373,
          41.493431101895375,
          41.70685013874707,
          41.741443413164376,
          41.603234530237565,
          41.84119466241627,
          41.66937458097271,
          41.00649128666553,
          40.57522024250521,
          40.295047016496554,
          40.05930169661688,
          39.89094467513155,
          39.010900242299115,
          38.616529168975966,
          38.643250451192564,
          38.69485610326855,
          38.6871319775131,
          38.71893907794037,
          38.84555947814168,
          38.68125440897156,
          38.547514475336754,
          38.308944329990915,
          38.14265093073273,
          37.70451991973193,
          37.563315054216766,
          37.73538198365503,
          37.33592205013168,
          36.75795772405975,
          36.859598973487735,
          36.96890569958062,
          36.519455307382955,
          36.24306054158465,
          35.96337772322197,
          35.62770376015317,
          35.005347981805386,
          34.18245702592009,
          33.20374173754373,
          32.545455678486455,
          32.4057658448526,
          32.675147929529764,
          32.47877887751572,
          32.17985171765852,
          31.988124789601642,
          31.83708766137646,
          32.2149137425837,
          32.2149137425837,
          32.19404068960187,
          31.93594835527093,
          31.790466849672843,
          31.5735868633274,
          31.48189920408651,
          31.46375035532289,
          31.46375035532289,
          31.646902585102715,
          32.51184890479751,
          32.810881541262575,
          33.262433859900355,
          33.66068095360034,
          33.866787073734116,
          35.40037010654552,
          37.45341117703965,
          39.21728971678496,
          40.71974545111966,
          41.33129862230485,
          42.40142594191141,
          43.241462717907005,
          43.452011183079684,
          43.712189171756116,
          44.413187368091585,
          44.688683548184414,
          45.659434625557594,
          46.87748087462382,
          48.03027695077431,
          49.04846914285037,
          49.69450497084394,
          51.39126541077596,
          53.32858448552976,
          53.777184056451375,
          53.64904844986238,
          53.52834723105501,
          53.45567583676542,
          53.151617795517396,
          52.686928909528035,
          51.87338558493294,
          51.73745503285814,
          51.762459818304734,
          51.76917754029194,
          52.52864741074445,
          52.87188413702266,
          52.173353362915265,
          50.69103818853668,
          49.65701160525606,
          49.78511133130198,
          49.75456064321358,
          49.31727927060861,
          48.533370496620584,
          48.31371864717881,
          48.41324767724969,
          48.71038121591637,
          48.59194198354054,
          48.59194198354054,
          48.55324136801661,
          48.48905602705703,
          48.60174369732701,
          48.374425192557794,
          48.358618795342004,
          48.60439308239206,
          49.02739750259803,
          49.81947516529649,
          49.608785035403834,
          49.59518098081131,
          49.61654232862129,
          49.49443570536077,
          49.61788290329359,
          49.667752536143965,
          49.663552060698656,
          49.88078658106589,
          49.99574807390089,
          50.31773489565834,
          50.195768510206854,
          49.94639093170747,
          49.463452603305825,
          47.88718872552549,
          47.04481549498275,
          46.41309504622247,
          45.782355108084886,
          45.38318239251285,
          44.951641784080486,
          44.28289718870384,
          43.384927910787326,
          43.083454898704595,
          42.845395416145735,
          43.0966680061611,
          43.02274051351605,
          43.29574734293433,
          43.32931491475772,
          43.54899465698673,
          43.42277668846248,
          43.37305776238133,
          43.37305776238133,
          43.35910904737889,
          43.35040762307711,
          43.348415895390794,
          43.361021406811886,
          43.348415895390794,
          43.38378419233798,
          43.48883501984426,
          43.41406096296795,
          43.23805411506985,
          43.023196733915846,
          42.90476453387241,
          43.11290360311703,
          43.35530717974455,
          44.116232970289275,
          43.88869867663401,
          43.46892087987544,
          42.95418285419692,
          42.42253609770604,
          41.59691772061774,
          40.63661369593439,
          39.88237602357766,
          39.140393663177036,
          38.165447573293584
         ]
        },
        {
         "line": {
          "color": "rgba(55, 128, 191, 0.7999999999999998)",
          "dash": "solid",
          "shape": "linear",
          "width": 1.3
         },
         "mode": "lines",
         "name": "LOWER(14)",
         "text": "",
         "type": "scatter",
         "x": [
          "2009-01-02",
          "2009-01-05",
          "2009-01-06",
          "2009-01-07",
          "2009-01-08",
          "2009-01-09",
          "2009-01-12",
          "2009-01-13",
          "2009-01-14",
          "2009-01-15",
          "2009-01-16",
          "2009-01-20",
          "2009-01-21",
          "2009-01-22",
          "2009-01-23",
          "2009-01-26",
          "2009-01-27",
          "2009-01-28",
          "2009-01-29",
          "2009-01-30",
          "2009-02-02",
          "2009-02-03",
          "2009-02-04",
          "2009-02-05",
          "2009-02-06",
          "2009-02-09",
          "2009-02-10",
          "2009-02-11",
          "2009-02-12",
          "2009-02-13",
          "2009-02-17",
          "2009-02-18",
          "2009-02-19",
          "2009-02-20",
          "2009-02-23",
          "2009-02-24",
          "2009-02-25",
          "2009-02-26",
          "2009-02-27",
          "2009-03-02",
          "2009-03-03",
          "2009-03-04",
          "2009-03-05",
          "2009-03-06",
          "2009-03-09",
          "2009-03-10",
          "2009-03-11",
          "2009-03-12",
          "2009-03-13",
          "2009-03-16",
          "2009-03-17",
          "2009-03-18",
          "2009-03-19",
          "2009-03-20",
          "2009-03-23",
          "2009-03-24",
          "2009-03-25",
          "2009-03-26",
          "2009-03-27",
          "2009-03-30",
          "2009-03-31",
          "2009-04-01",
          "2009-04-02",
          "2009-04-03",
          "2009-04-06",
          "2009-04-07",
          "2009-04-08",
          "2009-04-09",
          "2009-04-13",
          "2009-04-14",
          "2009-04-15",
          "2009-04-16",
          "2009-04-17",
          "2009-04-20",
          "2009-04-21",
          "2009-04-22",
          "2009-04-23",
          "2009-04-24",
          "2009-04-27",
          "2009-04-28",
          "2009-04-29",
          "2009-04-30",
          "2009-05-01",
          "2009-05-04",
          "2009-05-05",
          "2009-05-06",
          "2009-05-07",
          "2009-05-08",
          "2009-05-11",
          "2009-05-12",
          "2009-05-13",
          "2009-05-14",
          "2009-05-15",
          "2009-05-18",
          "2009-05-19",
          "2009-05-20",
          "2009-05-21",
          "2009-05-22",
          "2009-05-26",
          "2009-05-27",
          "2009-05-28",
          "2009-05-29",
          "2009-06-01",
          "2009-06-02",
          "2009-06-03",
          "2009-06-04",
          "2009-06-05",
          "2009-06-08",
          "2009-06-09",
          "2009-06-10",
          "2009-06-11",
          "2009-06-12",
          "2009-06-15",
          "2009-06-16",
          "2009-06-17",
          "2009-06-18",
          "2009-06-19",
          "2009-06-22",
          "2009-06-23",
          "2009-06-24",
          "2009-06-25",
          "2009-06-26",
          "2009-06-29",
          "2009-06-30",
          "2009-07-01",
          "2009-07-02",
          "2009-07-06",
          "2009-07-07",
          "2009-07-08",
          "2009-07-09",
          "2009-07-10",
          "2009-07-13",
          "2009-07-14",
          "2009-07-15",
          "2009-07-16",
          "2009-07-17",
          "2009-07-20",
          "2009-07-21",
          "2009-07-22",
          "2009-07-23",
          "2009-07-24",
          "2009-07-27",
          "2009-07-28",
          "2009-07-29",
          "2009-07-30",
          "2009-07-31",
          "2009-08-03",
          "2009-08-04",
          "2009-08-05",
          "2009-08-06",
          "2009-08-07",
          "2009-08-10",
          "2009-08-11",
          "2009-08-12",
          "2009-08-13",
          "2009-08-14",
          "2009-08-17",
          "2009-08-18",
          "2009-08-19",
          "2009-08-20",
          "2009-08-21",
          "2009-08-24",
          "2009-08-25",
          "2009-08-26",
          "2009-08-27",
          "2009-08-28",
          "2009-08-31",
          "2009-09-01",
          "2009-09-02",
          "2009-09-03",
          "2009-09-04",
          "2009-09-08",
          "2009-09-09",
          "2009-09-10",
          "2009-09-11",
          "2009-09-14",
          "2009-09-15",
          "2009-09-16",
          "2009-09-17",
          "2009-09-18",
          "2009-09-21",
          "2009-09-22",
          "2009-09-23",
          "2009-09-24",
          "2009-09-25",
          "2009-09-28",
          "2009-09-29",
          "2009-09-30",
          "2009-10-01",
          "2009-10-02",
          "2009-10-05",
          "2009-10-06",
          "2009-10-07",
          "2009-10-08",
          "2009-10-09",
          "2009-10-12",
          "2009-10-13",
          "2009-10-14",
          "2009-10-15",
          "2009-10-16",
          "2009-10-19",
          "2009-10-20",
          "2009-10-21",
          "2009-10-22",
          "2009-10-23",
          "2009-10-26",
          "2009-10-27",
          "2009-10-28",
          "2009-10-29",
          "2009-10-30",
          "2009-11-02",
          "2009-11-03",
          "2009-11-04",
          "2009-11-05",
          "2009-11-06",
          "2009-11-09",
          "2009-11-10",
          "2009-11-11",
          "2009-11-12",
          "2009-11-13",
          "2009-11-16",
          "2009-11-17",
          "2009-11-18",
          "2009-11-19",
          "2009-11-20",
          "2009-11-23",
          "2009-11-24",
          "2009-11-25",
          "2009-11-27",
          "2009-11-30",
          "2009-12-01",
          "2009-12-02",
          "2009-12-03",
          "2009-12-04",
          "2009-12-07",
          "2009-12-08",
          "2009-12-09",
          "2009-12-10",
          "2009-12-11",
          "2009-12-14",
          "2009-12-15",
          "2009-12-16",
          "2009-12-17",
          "2009-12-18",
          "2009-12-21",
          "2009-12-22",
          "2009-12-23",
          "2009-12-24",
          "2009-12-28",
          "2009-12-29",
          "2009-12-30",
          "2009-12-31"
         ],
         "y": [
          "",
          "",
          "",
          "",
          "",
          "",
          "",
          "",
          "",
          "",
          "",
          "",
          "",
          18.889612818449585,
          16.365796918448915,
          14.335976812873618,
          14.344661418400865,
          15.850706062113336,
          18.470908278096395,
          21.550847554222177,
          22.994341908666634,
          27.53888036870022,
          28.61481239885908,
          28.61369586866615,
          28.578095573429422,
          30.589377119137712,
          30.180479897076594,
          31.325213483843008,
          31.51900272437505,
          31.885276991323156,
          30.550852100106297,
          29.446707310653032,
          26.673124349992985,
          22.21102610462927,
          19.647458684378023,
          18.705620535825485,
          17.74449158901673,
          16.845639817421795,
          13.94818690873747,
          11.045287412666616,
          8.36918938632068,
          6.595165268278912,
          5.237940768664933,
          4.5880562424716285,
          3.922068963332931,
          4.319864901966248,
          4.508522038271346,
          4.44878572940538,
          4.542800807565159,
          5.025682469442058,
          5.046138202181904,
          3.5356782247350136,
          3.277729838771739,
          3.747061992512098,
          3.8420153438480398,
          4.892529712049964,
          6.8199327810591726,
          9.375398571530523,
          12.546661391213899,
          14.557405955042103,
          16.83873916479323,
          19.224828925900255,
          21.888758430225565,
          22.701117578123565,
          23.042756503869747,
          23.198635362652784,
          23.337916815856055,
          23.42351650307267,
          21.43290387393104,
          19.65474642125841,
          18.74019523670014,
          18.320773963983594,
          18.939300165129055,
          20.242888005926375,
          21.36001419550676,
          22.224895515523592,
          22.983111278692753,
          23.532608952909282,
          24.282918979282837,
          24.607632743859597,
          25.59861892326557,
          25.61844780276158,
          25.11807761963488,
          25.545473094635373,
          26.307227400825766,
          26.792821220282633,
          26.44974942372069,
          26.0682422228255,
          25.90530410162776,
          26.036407359973953,
          26.24942506003962,
          26.5502917919693,
          27.10141258528358,
          28.311050312117352,
          29.001661608510062,
          30.08776762222205,
          31.8220794879578,
          32.92477921253804,
          33.8620956226636,
          33.86926973195455,
          33.837627080413924,
          34.28910008467494,
          34.44061445110635,
          34.19960745460403,
          34.11943080992202,
          34.15572647324026,
          34.0953478352502,
          33.65444161177183,
          33.30446063968218,
          33.13820024634293,
          33.03391303084893,
          32.914492144392824,
          32.78119458396505,
          32.27954230662308,
          31.264618016344965,
          30.821220589028474,
          30.656327663251915,
          29.826115203235204,
          29.173951170798148,
          28.866258542365927,
          28.52836770286988,
          28.25090744610699,
          28.029438879006985,
          27.92322344676604,
          28.017543192062615,
          28.153401119599124,
          27.983115586597947,
          27.322805365736123,
          26.39628064189881,
          25.96407831983709,
          25.43443388763584,
          25.31187499241566,
          25.334340746565086,
          25.142229114559157,
          25.142229114559157,
          25.148816671237974,
          25.07833741351046,
          24.766675952974342,
          24.740698687471287,
          24.67524370755202,
          24.60767821610568,
          24.60767821610568,
          24.924525986325854,
          24.816722687260942,
          25.303404336510166,
          25.40899509299794,
          25.38217635274383,
          25.290355837904414,
          24.54248709080729,
          23.603731625607537,
          23.354138854643605,
          23.694540481148756,
          24.354416099374838,
          25.012859990357,
          26.072823105370055,
          27.790846341247182,
          29.00209681500798,
          29.61538444194957,
          30.754173921646778,
          31.654851197719466,
          32.60823362907316,
          33.698294804771166,
          34.35153129311502,
          34.8912096418444,
          34.9087349161981,
          34.81427265732738,
          36.23710143985164,
          37.16523737341468,
          38.000224306507775,
          39.11575273466315,
          40.634096490196896,
          41.87021362064077,
          43.44089969338737,
          43.9625446401678,
          43.80896820816709,
          43.37367905760845,
          41.714209296147295,
          40.75668696457471,
          40.55521784767346,
          40.651818627346415,
          40.87155938734996,
          40.9006023004642,
          40.87401045838379,
          40.82557732729178,
          40.938057420859884,
          41.0005666311415,
          40.95818067619617,
          40.78961878408363,
          40.79377241116509,
          40.79377241116509,
          41.618187312403315,
          42.35380133378281,
          42.555399486789895,
          43.339861066684676,
          43.641381749614744,
          43.56703614298461,
          43.58688864765309,
          43.60909680823169,
          44.34835847568713,
          44.39053406784244,
          44.14060150944371,
          43.6769935200159,
          43.39640368292292,
          43.260819437384214,
          42.96501958585548,
          42.17635649405966,
          41.53282346366189,
          40.39655081862737,
          40.061374237944655,
          39.33932335400682,
          38.62226200938251,
          38.82709753371698,
          38.55518515896535,
          38.42976231461737,
          38.37478753107527,
          38.43110343076421,
          38.51978667835673,
          38.759959845161944,
          39.08650055164989,
          39.07368774045556,
          39.183175576460286,
          39.160474741990406,
          39.205831242029426,
          39.17568111950289,
          39.44211332969681,
          39.56529040335088,
          40.034365187758226,
          40.24122729795628,
          40.24122729795628,
          40.1408898627076,
          40.03530568171502,
          39.95158334166975,
          39.92469233394564,
          39.95158334166975,
          39.70192933043686,
          39.1254494955366,
          38.58593740216179,
          38.20480171989109,
          38.06251624390223,
          37.35237712436559,
          36.215666626549535,
          34.94469151235925,
          32.9551945112258,
          32.16844330857805,
          31.616792642899394,
          31.04581660084633,
          30.491749289605618,
          30.303082170390905,
          30.34910080776259,
          30.331910235664804,
          30.30246435161091,
          30.477410114520318
         ]
        }
       ],
       "layout": {
        "legend": {
         "bgcolor": "#F5F6F9",
         "font": {
          "color": "#4D5663"
         }
        },
        "paper_bgcolor": "#F5F6F9",
        "plot_bgcolor": "#F5F6F9",
        "template": {
         "data": {
          "bar": [
           {
            "error_x": {
             "color": "#2a3f5f"
            },
            "error_y": {
             "color": "#2a3f5f"
            },
            "marker": {
             "line": {
              "color": "#E5ECF6",
              "width": 0.5
             },
             "pattern": {
              "fillmode": "overlay",
              "size": 10,
              "solidity": 0.2
             }
            },
            "type": "bar"
           }
          ],
          "barpolar": [
           {
            "marker": {
             "line": {
              "color": "#E5ECF6",
              "width": 0.5
             },
             "pattern": {
              "fillmode": "overlay",
              "size": 10,
              "solidity": 0.2
             }
            },
            "type": "barpolar"
           }
          ],
          "carpet": [
           {
            "aaxis": {
             "endlinecolor": "#2a3f5f",
             "gridcolor": "white",
             "linecolor": "white",
             "minorgridcolor": "white",
             "startlinecolor": "#2a3f5f"
            },
            "baxis": {
             "endlinecolor": "#2a3f5f",
             "gridcolor": "white",
             "linecolor": "white",
             "minorgridcolor": "white",
             "startlinecolor": "#2a3f5f"
            },
            "type": "carpet"
           }
          ],
          "choropleth": [
           {
            "colorbar": {
             "outlinewidth": 0,
             "ticks": ""
            },
            "type": "choropleth"
           }
          ],
          "contour": [
           {
            "colorbar": {
             "outlinewidth": 0,
             "ticks": ""
            },
            "colorscale": [
             [
              0,
              "#0d0887"
             ],
             [
              0.1111111111111111,
              "#46039f"
             ],
             [
              0.2222222222222222,
              "#7201a8"
             ],
             [
              0.3333333333333333,
              "#9c179e"
             ],
             [
              0.4444444444444444,
              "#bd3786"
             ],
             [
              0.5555555555555556,
              "#d8576b"
             ],
             [
              0.6666666666666666,
              "#ed7953"
             ],
             [
              0.7777777777777778,
              "#fb9f3a"
             ],
             [
              0.8888888888888888,
              "#fdca26"
             ],
             [
              1,
              "#f0f921"
             ]
            ],
            "type": "contour"
           }
          ],
          "contourcarpet": [
           {
            "colorbar": {
             "outlinewidth": 0,
             "ticks": ""
            },
            "type": "contourcarpet"
           }
          ],
          "heatmap": [
           {
            "colorbar": {
             "outlinewidth": 0,
             "ticks": ""
            },
            "colorscale": [
             [
              0,
              "#0d0887"
             ],
             [
              0.1111111111111111,
              "#46039f"
             ],
             [
              0.2222222222222222,
              "#7201a8"
             ],
             [
              0.3333333333333333,
              "#9c179e"
             ],
             [
              0.4444444444444444,
              "#bd3786"
             ],
             [
              0.5555555555555556,
              "#d8576b"
             ],
             [
              0.6666666666666666,
              "#ed7953"
             ],
             [
              0.7777777777777778,
              "#fb9f3a"
             ],
             [
              0.8888888888888888,
              "#fdca26"
             ],
             [
              1,
              "#f0f921"
             ]
            ],
            "type": "heatmap"
           }
          ],
          "heatmapgl": [
           {
            "colorbar": {
             "outlinewidth": 0,
             "ticks": ""
            },
            "colorscale": [
             [
              0,
              "#0d0887"
             ],
             [
              0.1111111111111111,
              "#46039f"
             ],
             [
              0.2222222222222222,
              "#7201a8"
             ],
             [
              0.3333333333333333,
              "#9c179e"
             ],
             [
              0.4444444444444444,
              "#bd3786"
             ],
             [
              0.5555555555555556,
              "#d8576b"
             ],
             [
              0.6666666666666666,
              "#ed7953"
             ],
             [
              0.7777777777777778,
              "#fb9f3a"
             ],
             [
              0.8888888888888888,
              "#fdca26"
             ],
             [
              1,
              "#f0f921"
             ]
            ],
            "type": "heatmapgl"
           }
          ],
          "histogram": [
           {
            "marker": {
             "pattern": {
              "fillmode": "overlay",
              "size": 10,
              "solidity": 0.2
             }
            },
            "type": "histogram"
           }
          ],
          "histogram2d": [
           {
            "colorbar": {
             "outlinewidth": 0,
             "ticks": ""
            },
            "colorscale": [
             [
              0,
              "#0d0887"
             ],
             [
              0.1111111111111111,
              "#46039f"
             ],
             [
              0.2222222222222222,
              "#7201a8"
             ],
             [
              0.3333333333333333,
              "#9c179e"
             ],
             [
              0.4444444444444444,
              "#bd3786"
             ],
             [
              0.5555555555555556,
              "#d8576b"
             ],
             [
              0.6666666666666666,
              "#ed7953"
             ],
             [
              0.7777777777777778,
              "#fb9f3a"
             ],
             [
              0.8888888888888888,
              "#fdca26"
             ],
             [
              1,
              "#f0f921"
             ]
            ],
            "type": "histogram2d"
           }
          ],
          "histogram2dcontour": [
           {
            "colorbar": {
             "outlinewidth": 0,
             "ticks": ""
            },
            "colorscale": [
             [
              0,
              "#0d0887"
             ],
             [
              0.1111111111111111,
              "#46039f"
             ],
             [
              0.2222222222222222,
              "#7201a8"
             ],
             [
              0.3333333333333333,
              "#9c179e"
             ],
             [
              0.4444444444444444,
              "#bd3786"
             ],
             [
              0.5555555555555556,
              "#d8576b"
             ],
             [
              0.6666666666666666,
              "#ed7953"
             ],
             [
              0.7777777777777778,
              "#fb9f3a"
             ],
             [
              0.8888888888888888,
              "#fdca26"
             ],
             [
              1,
              "#f0f921"
             ]
            ],
            "type": "histogram2dcontour"
           }
          ],
          "mesh3d": [
           {
            "colorbar": {
             "outlinewidth": 0,
             "ticks": ""
            },
            "type": "mesh3d"
           }
          ],
          "parcoords": [
           {
            "line": {
             "colorbar": {
              "outlinewidth": 0,
              "ticks": ""
             }
            },
            "type": "parcoords"
           }
          ],
          "pie": [
           {
            "automargin": true,
            "type": "pie"
           }
          ],
          "scatter": [
           {
            "marker": {
             "colorbar": {
              "outlinewidth": 0,
              "ticks": ""
             }
            },
            "type": "scatter"
           }
          ],
          "scatter3d": [
           {
            "line": {
             "colorbar": {
              "outlinewidth": 0,
              "ticks": ""
             }
            },
            "marker": {
             "colorbar": {
              "outlinewidth": 0,
              "ticks": ""
             }
            },
            "type": "scatter3d"
           }
          ],
          "scattercarpet": [
           {
            "marker": {
             "colorbar": {
              "outlinewidth": 0,
              "ticks": ""
             }
            },
            "type": "scattercarpet"
           }
          ],
          "scattergeo": [
           {
            "marker": {
             "colorbar": {
              "outlinewidth": 0,
              "ticks": ""
             }
            },
            "type": "scattergeo"
           }
          ],
          "scattergl": [
           {
            "marker": {
             "colorbar": {
              "outlinewidth": 0,
              "ticks": ""
             }
            },
            "type": "scattergl"
           }
          ],
          "scattermapbox": [
           {
            "marker": {
             "colorbar": {
              "outlinewidth": 0,
              "ticks": ""
             }
            },
            "type": "scattermapbox"
           }
          ],
          "scatterpolar": [
           {
            "marker": {
             "colorbar": {
              "outlinewidth": 0,
              "ticks": ""
             }
            },
            "type": "scatterpolar"
           }
          ],
          "scatterpolargl": [
           {
            "marker": {
             "colorbar": {
              "outlinewidth": 0,
              "ticks": ""
             }
            },
            "type": "scatterpolargl"
           }
          ],
          "scatterternary": [
           {
            "marker": {
             "colorbar": {
              "outlinewidth": 0,
              "ticks": ""
             }
            },
            "type": "scatterternary"
           }
          ],
          "surface": [
           {
            "colorbar": {
             "outlinewidth": 0,
             "ticks": ""
            },
            "colorscale": [
             [
              0,
              "#0d0887"
             ],
             [
              0.1111111111111111,
              "#46039f"
             ],
             [
              0.2222222222222222,
              "#7201a8"
             ],
             [
              0.3333333333333333,
              "#9c179e"
             ],
             [
              0.4444444444444444,
              "#bd3786"
             ],
             [
              0.5555555555555556,
              "#d8576b"
             ],
             [
              0.6666666666666666,
              "#ed7953"
             ],
             [
              0.7777777777777778,
              "#fb9f3a"
             ],
             [
              0.8888888888888888,
              "#fdca26"
             ],
             [
              1,
              "#f0f921"
             ]
            ],
            "type": "surface"
           }
          ],
          "table": [
           {
            "cells": {
             "fill": {
              "color": "#EBF0F8"
             },
             "line": {
              "color": "white"
             }
            },
            "header": {
             "fill": {
              "color": "#C8D4E3"
             },
             "line": {
              "color": "white"
             }
            },
            "type": "table"
           }
          ]
         },
         "layout": {
          "annotationdefaults": {
           "arrowcolor": "#2a3f5f",
           "arrowhead": 0,
           "arrowwidth": 1
          },
          "autotypenumbers": "strict",
          "coloraxis": {
           "colorbar": {
            "outlinewidth": 0,
            "ticks": ""
           }
          },
          "colorscale": {
           "diverging": [
            [
             0,
             "#8e0152"
            ],
            [
             0.1,
             "#c51b7d"
            ],
            [
             0.2,
             "#de77ae"
            ],
            [
             0.3,
             "#f1b6da"
            ],
            [
             0.4,
             "#fde0ef"
            ],
            [
             0.5,
             "#f7f7f7"
            ],
            [
             0.6,
             "#e6f5d0"
            ],
            [
             0.7,
             "#b8e186"
            ],
            [
             0.8,
             "#7fbc41"
            ],
            [
             0.9,
             "#4d9221"
            ],
            [
             1,
             "#276419"
            ]
           ],
           "sequential": [
            [
             0,
             "#0d0887"
            ],
            [
             0.1111111111111111,
             "#46039f"
            ],
            [
             0.2222222222222222,
             "#7201a8"
            ],
            [
             0.3333333333333333,
             "#9c179e"
            ],
            [
             0.4444444444444444,
             "#bd3786"
            ],
            [
             0.5555555555555556,
             "#d8576b"
            ],
            [
             0.6666666666666666,
             "#ed7953"
            ],
            [
             0.7777777777777778,
             "#fb9f3a"
            ],
            [
             0.8888888888888888,
             "#fdca26"
            ],
            [
             1,
             "#f0f921"
            ]
           ],
           "sequentialminus": [
            [
             0,
             "#0d0887"
            ],
            [
             0.1111111111111111,
             "#46039f"
            ],
            [
             0.2222222222222222,
             "#7201a8"
            ],
            [
             0.3333333333333333,
             "#9c179e"
            ],
            [
             0.4444444444444444,
             "#bd3786"
            ],
            [
             0.5555555555555556,
             "#d8576b"
            ],
            [
             0.6666666666666666,
             "#ed7953"
            ],
            [
             0.7777777777777778,
             "#fb9f3a"
            ],
            [
             0.8888888888888888,
             "#fdca26"
            ],
            [
             1,
             "#f0f921"
            ]
           ]
          },
          "colorway": [
           "#636efa",
           "#EF553B",
           "#00cc96",
           "#ab63fa",
           "#FFA15A",
           "#19d3f3",
           "#FF6692",
           "#B6E880",
           "#FF97FF",
           "#FECB52"
          ],
          "font": {
           "color": "#2a3f5f"
          },
          "geo": {
           "bgcolor": "white",
           "lakecolor": "white",
           "landcolor": "#E5ECF6",
           "showlakes": true,
           "showland": true,
           "subunitcolor": "white"
          },
          "hoverlabel": {
           "align": "left"
          },
          "hovermode": "closest",
          "mapbox": {
           "style": "light"
          },
          "paper_bgcolor": "white",
          "plot_bgcolor": "#E5ECF6",
          "polar": {
           "angularaxis": {
            "gridcolor": "white",
            "linecolor": "white",
            "ticks": ""
           },
           "bgcolor": "#E5ECF6",
           "radialaxis": {
            "gridcolor": "white",
            "linecolor": "white",
            "ticks": ""
           }
          },
          "scene": {
           "xaxis": {
            "backgroundcolor": "#E5ECF6",
            "gridcolor": "white",
            "gridwidth": 2,
            "linecolor": "white",
            "showbackground": true,
            "ticks": "",
            "zerolinecolor": "white"
           },
           "yaxis": {
            "backgroundcolor": "#E5ECF6",
            "gridcolor": "white",
            "gridwidth": 2,
            "linecolor": "white",
            "showbackground": true,
            "ticks": "",
            "zerolinecolor": "white"
           },
           "zaxis": {
            "backgroundcolor": "#E5ECF6",
            "gridcolor": "white",
            "gridwidth": 2,
            "linecolor": "white",
            "showbackground": true,
            "ticks": "",
            "zerolinecolor": "white"
           }
          },
          "shapedefaults": {
           "line": {
            "color": "#2a3f5f"
           }
          },
          "ternary": {
           "aaxis": {
            "gridcolor": "white",
            "linecolor": "white",
            "ticks": ""
           },
           "baxis": {
            "gridcolor": "white",
            "linecolor": "white",
            "ticks": ""
           },
           "bgcolor": "#E5ECF6",
           "caxis": {
            "gridcolor": "white",
            "linecolor": "white",
            "ticks": ""
           }
          },
          "title": {
           "x": 0.05
          },
          "xaxis": {
           "automargin": true,
           "gridcolor": "white",
           "linecolor": "white",
           "ticks": "",
           "title": {
            "standoff": 15
           },
           "zerolinecolor": "white",
           "zerolinewidth": 2
          },
          "yaxis": {
           "automargin": true,
           "gridcolor": "white",
           "linecolor": "white",
           "ticks": "",
           "title": {
            "standoff": 15
           },
           "zerolinecolor": "white",
           "zerolinewidth": 2
          }
         }
        },
        "title": {
         "font": {
          "color": "#4D5663"
         }
        },
        "xaxis": {
         "gridcolor": "#E1E5ED",
         "showgrid": true,
         "tickfont": {
          "color": "#4D5663"
         },
         "title": {
          "font": {
           "color": "#4D5663"
          },
          "text": ""
         },
         "zerolinecolor": "#E1E5ED"
        },
        "yaxis": {
         "gridcolor": "#E1E5ED",
         "showgrid": true,
         "tickfont": {
          "color": "#4D5663"
         },
         "title": {
          "font": {
           "color": "#4D5663"
          },
          "text": ""
         },
         "zerolinecolor": "#E1E5ED"
        }
       }
      },
      "text/html": [
       "<div>                            <div id=\"a52c419e-9fb0-4d9e-b476-72a784de183b\" class=\"plotly-graph-div\" style=\"height:525px; width:100%;\"></div>            <script type=\"text/javascript\">                require([\"plotly\"], function(Plotly) {                    window.PLOTLYENV=window.PLOTLYENV || {};\n",
       "                    window.PLOTLYENV.BASE_URL='https://plot.ly';                                    if (document.getElementById(\"a52c419e-9fb0-4d9e-b476-72a784de183b\")) {                    Plotly.newPlot(                        \"a52c419e-9fb0-4d9e-b476-72a784de183b\",                        [{\"line\":{\"color\":\"rgba(255, 153, 51, 1.0)\",\"dash\":\"solid\",\"shape\":\"linear\",\"width\":1.3},\"mode\":\"lines\",\"name\":\"Close\",\"text\":\"\",\"type\":\"scatter\",\"x\":[\"2009-01-02\",\"2009-01-05\",\"2009-01-06\",\"2009-01-07\",\"2009-01-08\",\"2009-01-09\",\"2009-01-12\",\"2009-01-13\",\"2009-01-14\",\"2009-01-15\",\"2009-01-16\",\"2009-01-20\",\"2009-01-21\",\"2009-01-22\",\"2009-01-23\",\"2009-01-26\",\"2009-01-27\",\"2009-01-28\",\"2009-01-29\",\"2009-01-30\",\"2009-02-02\",\"2009-02-03\",\"2009-02-04\",\"2009-02-05\",\"2009-02-06\",\"2009-02-09\",\"2009-02-10\",\"2009-02-11\",\"2009-02-12\",\"2009-02-13\",\"2009-02-17\",\"2009-02-18\",\"2009-02-19\",\"2009-02-20\",\"2009-02-23\",\"2009-02-24\",\"2009-02-25\",\"2009-02-26\",\"2009-02-27\",\"2009-03-02\",\"2009-03-03\",\"2009-03-04\",\"2009-03-05\",\"2009-03-06\",\"2009-03-09\",\"2009-03-10\",\"2009-03-11\",\"2009-03-12\",\"2009-03-13\",\"2009-03-16\",\"2009-03-17\",\"2009-03-18\",\"2009-03-19\",\"2009-03-20\",\"2009-03-23\",\"2009-03-24\",\"2009-03-25\",\"2009-03-26\",\"2009-03-27\",\"2009-03-30\",\"2009-03-31\",\"2009-04-01\",\"2009-04-02\",\"2009-04-03\",\"2009-04-06\",\"2009-04-07\",\"2009-04-08\",\"2009-04-09\",\"2009-04-13\",\"2009-04-14\",\"2009-04-15\",\"2009-04-16\",\"2009-04-17\",\"2009-04-20\",\"2009-04-21\",\"2009-04-22\",\"2009-04-23\",\"2009-04-24\",\"2009-04-27\",\"2009-04-28\",\"2009-04-29\",\"2009-04-30\",\"2009-05-01\",\"2009-05-04\",\"2009-05-05\",\"2009-05-06\",\"2009-05-07\",\"2009-05-08\",\"2009-05-11\",\"2009-05-12\",\"2009-05-13\",\"2009-05-14\",\"2009-05-15\",\"2009-05-18\",\"2009-05-19\",\"2009-05-20\",\"2009-05-21\",\"2009-05-22\",\"2009-05-26\",\"2009-05-27\",\"2009-05-28\",\"2009-05-29\",\"2009-06-01\",\"2009-06-02\",\"2009-06-03\",\"2009-06-04\",\"2009-06-05\",\"2009-06-08\",\"2009-06-09\",\"2009-06-10\",\"2009-06-11\",\"2009-06-12\",\"2009-06-15\",\"2009-06-16\",\"2009-06-17\",\"2009-06-18\",\"2009-06-19\",\"2009-06-22\",\"2009-06-23\",\"2009-06-24\",\"2009-06-25\",\"2009-06-26\",\"2009-06-29\",\"2009-06-30\",\"2009-07-01\",\"2009-07-02\",\"2009-07-06\",\"2009-07-07\",\"2009-07-08\",\"2009-07-09\",\"2009-07-10\",\"2009-07-13\",\"2009-07-14\",\"2009-07-15\",\"2009-07-16\",\"2009-07-17\",\"2009-07-20\",\"2009-07-21\",\"2009-07-22\",\"2009-07-23\",\"2009-07-24\",\"2009-07-27\",\"2009-07-28\",\"2009-07-29\",\"2009-07-30\",\"2009-07-31\",\"2009-08-03\",\"2009-08-04\",\"2009-08-05\",\"2009-08-06\",\"2009-08-07\",\"2009-08-10\",\"2009-08-11\",\"2009-08-12\",\"2009-08-13\",\"2009-08-14\",\"2009-08-17\",\"2009-08-18\",\"2009-08-19\",\"2009-08-20\",\"2009-08-21\",\"2009-08-24\",\"2009-08-25\",\"2009-08-26\",\"2009-08-27\",\"2009-08-28\",\"2009-08-31\",\"2009-09-01\",\"2009-09-02\",\"2009-09-03\",\"2009-09-04\",\"2009-09-08\",\"2009-09-09\",\"2009-09-10\",\"2009-09-11\",\"2009-09-14\",\"2009-09-15\",\"2009-09-16\",\"2009-09-17\",\"2009-09-18\",\"2009-09-21\",\"2009-09-22\",\"2009-09-23\",\"2009-09-24\",\"2009-09-25\",\"2009-09-28\",\"2009-09-29\",\"2009-09-30\",\"2009-10-01\",\"2009-10-02\",\"2009-10-05\",\"2009-10-06\",\"2009-10-07\",\"2009-10-08\",\"2009-10-09\",\"2009-10-12\",\"2009-10-13\",\"2009-10-14\",\"2009-10-15\",\"2009-10-16\",\"2009-10-19\",\"2009-10-20\",\"2009-10-21\",\"2009-10-22\",\"2009-10-23\",\"2009-10-26\",\"2009-10-27\",\"2009-10-28\",\"2009-10-29\",\"2009-10-30\",\"2009-11-02\",\"2009-11-03\",\"2009-11-04\",\"2009-11-05\",\"2009-11-06\",\"2009-11-09\",\"2009-11-10\",\"2009-11-11\",\"2009-11-12\",\"2009-11-13\",\"2009-11-16\",\"2009-11-17\",\"2009-11-18\",\"2009-11-19\",\"2009-11-20\",\"2009-11-23\",\"2009-11-24\",\"2009-11-25\",\"2009-11-27\",\"2009-11-30\",\"2009-12-01\",\"2009-12-02\",\"2009-12-03\",\"2009-12-04\",\"2009-12-07\",\"2009-12-08\",\"2009-12-09\",\"2009-12-10\",\"2009-12-11\",\"2009-12-14\",\"2009-12-15\",\"2009-12-16\",\"2009-12-17\",\"2009-12-18\",\"2009-12-21\",\"2009-12-22\",\"2009-12-23\",\"2009-12-24\",\"2009-12-28\",\"2009-12-29\",\"2009-12-30\",\"2009-12-31\"],\"y\":[71.4000015258789,70.80000305175781,74.5999984741211,71.5,71.5999984741211,67.5,56.0,59.0,45.29999923706055,38.29999923706055,35.0,28.0,36.70000076293945,31.100000381469727,34.70000076293945,33.29999923706055,35.5,42.099998474121094,39.0,35.5,36.5,34.599998474121094,34.900001525878906,35.29999923706055,39.099998474121094,39.5,33.5,36.900001525878906,36.099998474121094,34.900001525878906,30.600000381469727,29.100000381469727,25.100000381469727,19.5,21.399999618530273,26.0,25.200000762939453,24.600000381469727,15.0,12.0,12.199999809265137,11.300000190734863,10.199999809265137,10.300000190734863,10.5,14.5,15.399999618530273,16.700000762939453,17.799999237060547,23.299999237060547,25.100000381469727,30.799999237060547,26.0,26.200000762939453,31.299999237060547,30.100000381469727,29.5,28.100000381469727,26.200000762939453,23.100000381469727,25.299999237060547,26.799999237060547,27.399999618530273,28.5,27.200000762939453,27.600000381469727,27.0,30.399999618530273,38.0,40.099998474121094,39.70000076293945,40.099998474121094,36.5,29.399999618530273,32.400001525878906,32.5,32.0,31.899999618530273,30.700000762939453,28.899999618530273,31.200000762939453,30.5,29.700000762939453,32.0,33.099998474121094,38.599998474121094,38.099998474121094,40.20000076293945,38.599998474121094,36.599998474121094,34.099998474121094,35.5,34.79999923706055,36.400001525878906,37.70000076293945,36.900001525878906,37.20000076293945,36.70000076293945,37.70000076293945,37.0,36.70000076293945,37.20000076293945,36.900001525878906,35.099998474121094,33.900001525878906,35.70000076293945,34.599998474121094,34.20000076293945,34.099998474121094,34.79999923706055,34.79999923706055,34.70000076293945,33.70000076293945,32.5,30.799999237060547,31.299999237060547,31.700000762939453,30.0,30.100000381469727,30.399999618530273,30.299999237060547,30.299999237060547,30.200000762939453,29.700000762939453,29.700000762939453,28.799999237060547,27.899999618530273,26.899999618530273,26.200000762939453,26.899999618530273,25.899999618530273,27.799999237060547,29.200000762939453,31.700000762939453,30.299999237060547,30.200000762939453,27.899999618530273,26.5,28.0,27.700000762939453,27.299999237060547,26.899999618530273,29.700000762939453,32.20000076293945,31.399999618530273,31.700000762939453,31.799999237060547,32.5,35.79999923706055,38.0,38.5,39.400001525878906,36.900001525878906,39.79999923706055,40.599998474121094,40.400001525878906,40.0,41.400001525878906,41.29999923706055,44.79999923706055,47.0,48.20000076293945,47.5,46.29999923706055,50.5,52.29999923706055,50.0,45.400001525878906,45.599998474121094,47.70000076293945,48.5,46.79999923706055,46.599998474121094,47.5,46.099998474121094,45.20000076293945,41.20000076293945,42.0,44.20000076293945,42.599998474121094,44.29999923706055,46.5,45.20000076293945,44.29999923706055,43.79999923706055,45.70000076293945,47.0,48.400001525878906,45.29999923706055,45.20000076293945,46.70000076293945,46.70000076293945,46.400001525878906,46.5,46.29999923706055,47.70000076293945,48.29999923706055,50.0,47.5,45.900001525878906,45.400001525878906,44.29999923706055,44.20000076293945,44.599998474121094,44.599998474121094,42.70000076293945,42.70000076293945,40.79999923706055,43.099998474121094,40.900001525878906,39.900001525878906,40.400001525878906,39.70000076293945,40.599998474121094,40.599998474121094,41.900001525878906,41.79999923706055,41.599998474121094,40.599998474121094,40.5,41.79999923706055,42.400001525878906,42.900001525878906,42.599998474121094,42.0,42.79999923706055,42.099998474121094,41.70000076293945,40.599998474121094,41.099998474121094,41.0,41.0,40.5,40.599998474121094,40.29999923706055,39.099998474121094,38.599998474121094,38.70000076293945,39.5,37.0,35.599998474121094,34.5,32.0,34.0,34.20000076293945,33.400001525878906,32.900001525878906,33.5,33.900001525878906,33.70000076293945,33.20000076293945,33.099998474121094]},{\"line\":{\"color\":\"rgba(55, 128, 191, 1.0)\",\"dash\":\"solid\",\"shape\":\"linear\",\"width\":1.3},\"mode\":\"lines\",\"name\":\"SMA(14)\",\"text\":\"\",\"type\":\"scatter\",\"x\":[\"2009-01-02\",\"2009-01-05\",\"2009-01-06\",\"2009-01-07\",\"2009-01-08\",\"2009-01-09\",\"2009-01-12\",\"2009-01-13\",\"2009-01-14\",\"2009-01-15\",\"2009-01-16\",\"2009-01-20\",\"2009-01-21\",\"2009-01-22\",\"2009-01-23\",\"2009-01-26\",\"2009-01-27\",\"2009-01-28\",\"2009-01-29\",\"2009-01-30\",\"2009-02-02\",\"2009-02-03\",\"2009-02-04\",\"2009-02-05\",\"2009-02-06\",\"2009-02-09\",\"2009-02-10\",\"2009-02-11\",\"2009-02-12\",\"2009-02-13\",\"2009-02-17\",\"2009-02-18\",\"2009-02-19\",\"2009-02-20\",\"2009-02-23\",\"2009-02-24\",\"2009-02-25\",\"2009-02-26\",\"2009-02-27\",\"2009-03-02\",\"2009-03-03\",\"2009-03-04\",\"2009-03-05\",\"2009-03-06\",\"2009-03-09\",\"2009-03-10\",\"2009-03-11\",\"2009-03-12\",\"2009-03-13\",\"2009-03-16\",\"2009-03-17\",\"2009-03-18\",\"2009-03-19\",\"2009-03-20\",\"2009-03-23\",\"2009-03-24\",\"2009-03-25\",\"2009-03-26\",\"2009-03-27\",\"2009-03-30\",\"2009-03-31\",\"2009-04-01\",\"2009-04-02\",\"2009-04-03\",\"2009-04-06\",\"2009-04-07\",\"2009-04-08\",\"2009-04-09\",\"2009-04-13\",\"2009-04-14\",\"2009-04-15\",\"2009-04-16\",\"2009-04-17\",\"2009-04-20\",\"2009-04-21\",\"2009-04-22\",\"2009-04-23\",\"2009-04-24\",\"2009-04-27\",\"2009-04-28\",\"2009-04-29\",\"2009-04-30\",\"2009-05-01\",\"2009-05-04\",\"2009-05-05\",\"2009-05-06\",\"2009-05-07\",\"2009-05-08\",\"2009-05-11\",\"2009-05-12\",\"2009-05-13\",\"2009-05-14\",\"2009-05-15\",\"2009-05-18\",\"2009-05-19\",\"2009-05-20\",\"2009-05-21\",\"2009-05-22\",\"2009-05-26\",\"2009-05-27\",\"2009-05-28\",\"2009-05-29\",\"2009-06-01\",\"2009-06-02\",\"2009-06-03\",\"2009-06-04\",\"2009-06-05\",\"2009-06-08\",\"2009-06-09\",\"2009-06-10\",\"2009-06-11\",\"2009-06-12\",\"2009-06-15\",\"2009-06-16\",\"2009-06-17\",\"2009-06-18\",\"2009-06-19\",\"2009-06-22\",\"2009-06-23\",\"2009-06-24\",\"2009-06-25\",\"2009-06-26\",\"2009-06-29\",\"2009-06-30\",\"2009-07-01\",\"2009-07-02\",\"2009-07-06\",\"2009-07-07\",\"2009-07-08\",\"2009-07-09\",\"2009-07-10\",\"2009-07-13\",\"2009-07-14\",\"2009-07-15\",\"2009-07-16\",\"2009-07-17\",\"2009-07-20\",\"2009-07-21\",\"2009-07-22\",\"2009-07-23\",\"2009-07-24\",\"2009-07-27\",\"2009-07-28\",\"2009-07-29\",\"2009-07-30\",\"2009-07-31\",\"2009-08-03\",\"2009-08-04\",\"2009-08-05\",\"2009-08-06\",\"2009-08-07\",\"2009-08-10\",\"2009-08-11\",\"2009-08-12\",\"2009-08-13\",\"2009-08-14\",\"2009-08-17\",\"2009-08-18\",\"2009-08-19\",\"2009-08-20\",\"2009-08-21\",\"2009-08-24\",\"2009-08-25\",\"2009-08-26\",\"2009-08-27\",\"2009-08-28\",\"2009-08-31\",\"2009-09-01\",\"2009-09-02\",\"2009-09-03\",\"2009-09-04\",\"2009-09-08\",\"2009-09-09\",\"2009-09-10\",\"2009-09-11\",\"2009-09-14\",\"2009-09-15\",\"2009-09-16\",\"2009-09-17\",\"2009-09-18\",\"2009-09-21\",\"2009-09-22\",\"2009-09-23\",\"2009-09-24\",\"2009-09-25\",\"2009-09-28\",\"2009-09-29\",\"2009-09-30\",\"2009-10-01\",\"2009-10-02\",\"2009-10-05\",\"2009-10-06\",\"2009-10-07\",\"2009-10-08\",\"2009-10-09\",\"2009-10-12\",\"2009-10-13\",\"2009-10-14\",\"2009-10-15\",\"2009-10-16\",\"2009-10-19\",\"2009-10-20\",\"2009-10-21\",\"2009-10-22\",\"2009-10-23\",\"2009-10-26\",\"2009-10-27\",\"2009-10-28\",\"2009-10-29\",\"2009-10-30\",\"2009-11-02\",\"2009-11-03\",\"2009-11-04\",\"2009-11-05\",\"2009-11-06\",\"2009-11-09\",\"2009-11-10\",\"2009-11-11\",\"2009-11-12\",\"2009-11-13\",\"2009-11-16\",\"2009-11-17\",\"2009-11-18\",\"2009-11-19\",\"2009-11-20\",\"2009-11-23\",\"2009-11-24\",\"2009-11-25\",\"2009-11-27\",\"2009-11-30\",\"2009-12-01\",\"2009-12-02\",\"2009-12-03\",\"2009-12-04\",\"2009-12-07\",\"2009-12-08\",\"2009-12-09\",\"2009-12-10\",\"2009-12-11\",\"2009-12-14\",\"2009-12-15\",\"2009-12-16\",\"2009-12-17\",\"2009-12-18\",\"2009-12-21\",\"2009-12-22\",\"2009-12-23\",\"2009-12-24\",\"2009-12-28\",\"2009-12-29\",\"2009-12-30\",\"2009-12-31\"],\"y\":[\"\",\"\",\"\",\"\",\"\",\"\",\"\",\"\",\"\",\"\",\"\",\"\",\"\",54.05714293888637,51.435714312962126,48.75714261191232,45.96428557804653,43.864285469055176,41.5357141494751,39.24999986376081,37.85714272090367,36.114285469055176,35.37142848968506,35.15714277539934,35.44999980926514,36.271428380693706,36.042856897626606,36.45714269365583,36.557142530168804,36.67142840794155,36.32142843518938,35.392857142857146,34.400000027247835,33.257142884390696,32.17857142857143,31.564285823277064,30.871428625924246,30.107142993382045,28.385714530944824,26.42142881665911,24.90000023160662,23.07142870766776,21.22142880303519,19.464285850524902,18.02857153756278,16.9857143674578,16.29285717010498,16.092857224600657,15.835714340209961,15.642857142857142,15.635714258466448,16.078571319580078,16.864285605294363,17.878571374075754,19.24285704748971,20.585714203970774,21.964285646166122,23.235714231218612,24.357142857142858,24.971428598676408,25.678571428571427,26.39999989100865,27.085714203970774,27.45714282989502,27.607142857142858,27.37857151031494,27.450000081743514,27.75,28.228571483067103,28.94285706111363,29.671428544180735,30.528571265084402,31.264285496303014,31.714285441807338,32.221428462437224,32.628571374075754,32.95714282989502,33.199999945504324,33.449999945504324,33.54285703386579,33.84285708836147,33.849999972752165,33.257142884390696,32.67857156481062,32.20714282989502,32.099999972752165,32.21428557804653,32.98571423121861,33.42857115609305,33.72142818995884,33.8714280809675,34.128570965358186,34.42142799922398,34.95714242117746,35.42142813546317,35.87857110159738,36.414285387311665,36.749999727521626,37.07857131958008,36.964285714285715,36.86428587777274,36.65000016348703,36.52857181004116,36.421428952898296,36.407143456595286,36.42142922537668,36.407143456595286,36.250000544956755,35.99285752432687,35.842857360839844,35.67142868041992,35.528571537562776,35.24285725184849,34.92142868041992,34.5,34.07857131958008,33.70714269365583,33.34285708836147,33.07142843518938,32.69285692487444,32.38571412222726,32.10714258466448,31.828571319580078,31.464285714285715,31.10000010899135,30.678571428571427,30.2642856325422,29.864285605294363,29.535714285714285,29.221428598676408,28.80714280264718,28.64999989100865,28.585714203970774,28.678571428571427,28.678571428571427,28.671428680419922,28.507142884390696,28.278571401323592,28.157142775399343,28.078571455819265,28.035714285714285,28.035714285714285,28.285714285714285,28.664285796029226,29.05714293888637,29.335714476449148,29.521428653172084,29.578571455819265,29.971428598676408,30.528571401323592,31.285714285714285,32.20714296613421,32.842857360839844,33.70714296613421,34.65714291163853,35.62142876216343,36.35714299338205,37.01428590502058,37.7214287349156,38.65714291163853,39.74285725184849,40.86428587777274,41.7000002179827,42.29285730634417,43.15000016348703,44.07142857142857,45.00714274815151,45.40714291163853,45.76428576878139,46.285714285714285,46.892857142857146,47.2785712650844,47.657142639160156,47.84999983651297,47.78571401323591,47.571428298950195,47.12142835344587,46.81428555079869,46.36428560529436,45.67142840794155,45.26428549630301,45.34285681588309,45.31428555079869,45.071428298950195,44.735713958740234,44.657142639160156,44.68571417672293,44.75,44.692857197352815,44.692857197352815,45.08571434020996,45.42142868041992,45.57857159205845,45.857143129621235,46.000000272478374,46.085714612688335,46.30714307512556,46.71428598676409,46.97857175554548,46.99285752432687,46.8785719190325,46.585714612688335,46.50714329310826,46.46428598676409,46.31428582327707,46.028571537562776,45.76428576878139,45.357142857142854,45.128571374075754,44.642857142857146,44.04285730634417,43.357143129621235,42.80000032697405,42.42142868041992,42.07857131958008,41.90714291163853,41.73571423121861,41.52142851693289,41.23571423121861,41.07857131958008,41.01428549630301,41.128571374075754,41.11428587777274,41.23571423121861,41.38571412222726,41.557142530168804,41.72857093811035,41.807142530168804,41.807142530168804,41.749999455043245,41.69285665239607,41.64999961853027,41.642856870378765,41.64999961853027,41.54285676138742,41.30714225769043,40.99999918256487,40.72142791748047,40.54285648890904,40.128570829119,39.664285114833284,39.1499993460519,38.53571374075754,38.02857099260603,37.54285676138742,36.999999727521626,36.45714269365583,35.949999945504324,35.49285725184849,35.107143129621235,34.72142900739397,34.32142884390695]},{\"line\":{\"color\":\"rgba(55, 128, 191, 0.8999999999999999)\",\"dash\":\"solid\",\"shape\":\"linear\",\"width\":1.3},\"mode\":\"lines\",\"name\":\"UPPER(14)\",\"text\":\"\",\"type\":\"scatter\",\"x\":[\"2009-01-02\",\"2009-01-05\",\"2009-01-06\",\"2009-01-07\",\"2009-01-08\",\"2009-01-09\",\"2009-01-12\",\"2009-01-13\",\"2009-01-14\",\"2009-01-15\",\"2009-01-16\",\"2009-01-20\",\"2009-01-21\",\"2009-01-22\",\"2009-01-23\",\"2009-01-26\",\"2009-01-27\",\"2009-01-28\",\"2009-01-29\",\"2009-01-30\",\"2009-02-02\",\"2009-02-03\",\"2009-02-04\",\"2009-02-05\",\"2009-02-06\",\"2009-02-09\",\"2009-02-10\",\"2009-02-11\",\"2009-02-12\",\"2009-02-13\",\"2009-02-17\",\"2009-02-18\",\"2009-02-19\",\"2009-02-20\",\"2009-02-23\",\"2009-02-24\",\"2009-02-25\",\"2009-02-26\",\"2009-02-27\",\"2009-03-02\",\"2009-03-03\",\"2009-03-04\",\"2009-03-05\",\"2009-03-06\",\"2009-03-09\",\"2009-03-10\",\"2009-03-11\",\"2009-03-12\",\"2009-03-13\",\"2009-03-16\",\"2009-03-17\",\"2009-03-18\",\"2009-03-19\",\"2009-03-20\",\"2009-03-23\",\"2009-03-24\",\"2009-03-25\",\"2009-03-26\",\"2009-03-27\",\"2009-03-30\",\"2009-03-31\",\"2009-04-01\",\"2009-04-02\",\"2009-04-03\",\"2009-04-06\",\"2009-04-07\",\"2009-04-08\",\"2009-04-09\",\"2009-04-13\",\"2009-04-14\",\"2009-04-15\",\"2009-04-16\",\"2009-04-17\",\"2009-04-20\",\"2009-04-21\",\"2009-04-22\",\"2009-04-23\",\"2009-04-24\",\"2009-04-27\",\"2009-04-28\",\"2009-04-29\",\"2009-04-30\",\"2009-05-01\",\"2009-05-04\",\"2009-05-05\",\"2009-05-06\",\"2009-05-07\",\"2009-05-08\",\"2009-05-11\",\"2009-05-12\",\"2009-05-13\",\"2009-05-14\",\"2009-05-15\",\"2009-05-18\",\"2009-05-19\",\"2009-05-20\",\"2009-05-21\",\"2009-05-22\",\"2009-05-26\",\"2009-05-27\",\"2009-05-28\",\"2009-05-29\",\"2009-06-01\",\"2009-06-02\",\"2009-06-03\",\"2009-06-04\",\"2009-06-05\",\"2009-06-08\",\"2009-06-09\",\"2009-06-10\",\"2009-06-11\",\"2009-06-12\",\"2009-06-15\",\"2009-06-16\",\"2009-06-17\",\"2009-06-18\",\"2009-06-19\",\"2009-06-22\",\"2009-06-23\",\"2009-06-24\",\"2009-06-25\",\"2009-06-26\",\"2009-06-29\",\"2009-06-30\",\"2009-07-01\",\"2009-07-02\",\"2009-07-06\",\"2009-07-07\",\"2009-07-08\",\"2009-07-09\",\"2009-07-10\",\"2009-07-13\",\"2009-07-14\",\"2009-07-15\",\"2009-07-16\",\"2009-07-17\",\"2009-07-20\",\"2009-07-21\",\"2009-07-22\",\"2009-07-23\",\"2009-07-24\",\"2009-07-27\",\"2009-07-28\",\"2009-07-29\",\"2009-07-30\",\"2009-07-31\",\"2009-08-03\",\"2009-08-04\",\"2009-08-05\",\"2009-08-06\",\"2009-08-07\",\"2009-08-10\",\"2009-08-11\",\"2009-08-12\",\"2009-08-13\",\"2009-08-14\",\"2009-08-17\",\"2009-08-18\",\"2009-08-19\",\"2009-08-20\",\"2009-08-21\",\"2009-08-24\",\"2009-08-25\",\"2009-08-26\",\"2009-08-27\",\"2009-08-28\",\"2009-08-31\",\"2009-09-01\",\"2009-09-02\",\"2009-09-03\",\"2009-09-04\",\"2009-09-08\",\"2009-09-09\",\"2009-09-10\",\"2009-09-11\",\"2009-09-14\",\"2009-09-15\",\"2009-09-16\",\"2009-09-17\",\"2009-09-18\",\"2009-09-21\",\"2009-09-22\",\"2009-09-23\",\"2009-09-24\",\"2009-09-25\",\"2009-09-28\",\"2009-09-29\",\"2009-09-30\",\"2009-10-01\",\"2009-10-02\",\"2009-10-05\",\"2009-10-06\",\"2009-10-07\",\"2009-10-08\",\"2009-10-09\",\"2009-10-12\",\"2009-10-13\",\"2009-10-14\",\"2009-10-15\",\"2009-10-16\",\"2009-10-19\",\"2009-10-20\",\"2009-10-21\",\"2009-10-22\",\"2009-10-23\",\"2009-10-26\",\"2009-10-27\",\"2009-10-28\",\"2009-10-29\",\"2009-10-30\",\"2009-11-02\",\"2009-11-03\",\"2009-11-04\",\"2009-11-05\",\"2009-11-06\",\"2009-11-09\",\"2009-11-10\",\"2009-11-11\",\"2009-11-12\",\"2009-11-13\",\"2009-11-16\",\"2009-11-17\",\"2009-11-18\",\"2009-11-19\",\"2009-11-20\",\"2009-11-23\",\"2009-11-24\",\"2009-11-25\",\"2009-11-27\",\"2009-11-30\",\"2009-12-01\",\"2009-12-02\",\"2009-12-03\",\"2009-12-04\",\"2009-12-07\",\"2009-12-08\",\"2009-12-09\",\"2009-12-10\",\"2009-12-11\",\"2009-12-14\",\"2009-12-15\",\"2009-12-16\",\"2009-12-17\",\"2009-12-18\",\"2009-12-21\",\"2009-12-22\",\"2009-12-23\",\"2009-12-24\",\"2009-12-28\",\"2009-12-29\",\"2009-12-30\",\"2009-12-31\"],\"y\":[\"\",\"\",\"\",\"\",\"\",\"\",\"\",\"\",\"\",\"\",\"\",\"\",\"\",89.22467305932315,86.50563170747535,83.17830841095102,77.5839097376922,71.87786487599702,64.60052002085379,56.94915217329945,52.7199435331407,44.68969056941013,42.12804458051104,41.70058968213254,42.32190404510085,41.953479642249704,41.90523389817662,41.58907190346866,41.59528233596256,41.45757982455994,42.09200477027247,41.33900697506126,42.12687570450268,44.30325966415212,44.70968417276484,44.42295111072865,43.99836566283176,43.3686461693423,42.82324215315218,41.7975702206516,41.43081107689255,39.54769214705661,37.20491683740545,34.340515458578174,32.135074111792626,29.65156383294935,28.077192301938616,27.736928719795934,27.128627872854764,26.260031816272225,26.225290314750993,28.62146441442514,30.450841371816985,32.01008075563941,34.64369875113138,36.278898695891584,37.10863851127307,37.0960298909067,36.16762432307182,35.38545124231071,34.51840369234962,33.57517085611705,32.28266997771598,32.213168081666474,32.17152921041597,31.5585076579771,31.562083347630974,32.07648349692733,35.02423909220317,38.230967700968854,40.60266185166133,42.736368566185206,43.58927082747697,43.1856828776883,43.082842729367684,43.03224723262792,42.931174381097286,42.86739093809936,42.61708091172581,42.47808132387199,42.08709525345737,42.08155214274275,41.39620814914651,39.811670034985866,38.10705825896427,37.4071787252217,37.97882173237237,39.90318623961171,40.951838210558336,41.40644901994373,41.493431101895375,41.70685013874707,41.741443413164376,41.603234530237565,41.84119466241627,41.66937458097271,41.00649128666553,40.57522024250521,40.295047016496554,40.05930169661688,39.89094467513155,39.010900242299115,38.616529168975966,38.643250451192564,38.69485610326855,38.6871319775131,38.71893907794037,38.84555947814168,38.68125440897156,38.547514475336754,38.308944329990915,38.14265093073273,37.70451991973193,37.563315054216766,37.73538198365503,37.33592205013168,36.75795772405975,36.859598973487735,36.96890569958062,36.519455307382955,36.24306054158465,35.96337772322197,35.62770376015317,35.005347981805386,34.18245702592009,33.20374173754373,32.545455678486455,32.4057658448526,32.675147929529764,32.47877887751572,32.17985171765852,31.988124789601642,31.83708766137646,32.2149137425837,32.2149137425837,32.19404068960187,31.93594835527093,31.790466849672843,31.5735868633274,31.48189920408651,31.46375035532289,31.46375035532289,31.646902585102715,32.51184890479751,32.810881541262575,33.262433859900355,33.66068095360034,33.866787073734116,35.40037010654552,37.45341117703965,39.21728971678496,40.71974545111966,41.33129862230485,42.40142594191141,43.241462717907005,43.452011183079684,43.712189171756116,44.413187368091585,44.688683548184414,45.659434625557594,46.87748087462382,48.03027695077431,49.04846914285037,49.69450497084394,51.39126541077596,53.32858448552976,53.777184056451375,53.64904844986238,53.52834723105501,53.45567583676542,53.151617795517396,52.686928909528035,51.87338558493294,51.73745503285814,51.762459818304734,51.76917754029194,52.52864741074445,52.87188413702266,52.173353362915265,50.69103818853668,49.65701160525606,49.78511133130198,49.75456064321358,49.31727927060861,48.533370496620584,48.31371864717881,48.41324767724969,48.71038121591637,48.59194198354054,48.59194198354054,48.55324136801661,48.48905602705703,48.60174369732701,48.374425192557794,48.358618795342004,48.60439308239206,49.02739750259803,49.81947516529649,49.608785035403834,49.59518098081131,49.61654232862129,49.49443570536077,49.61788290329359,49.667752536143965,49.663552060698656,49.88078658106589,49.99574807390089,50.31773489565834,50.195768510206854,49.94639093170747,49.463452603305825,47.88718872552549,47.04481549498275,46.41309504622247,45.782355108084886,45.38318239251285,44.951641784080486,44.28289718870384,43.384927910787326,43.083454898704595,42.845395416145735,43.0966680061611,43.02274051351605,43.29574734293433,43.32931491475772,43.54899465698673,43.42277668846248,43.37305776238133,43.37305776238133,43.35910904737889,43.35040762307711,43.348415895390794,43.361021406811886,43.348415895390794,43.38378419233798,43.48883501984426,43.41406096296795,43.23805411506985,43.023196733915846,42.90476453387241,43.11290360311703,43.35530717974455,44.116232970289275,43.88869867663401,43.46892087987544,42.95418285419692,42.42253609770604,41.59691772061774,40.63661369593439,39.88237602357766,39.140393663177036,38.165447573293584]},{\"line\":{\"color\":\"rgba(55, 128, 191, 0.7999999999999998)\",\"dash\":\"solid\",\"shape\":\"linear\",\"width\":1.3},\"mode\":\"lines\",\"name\":\"LOWER(14)\",\"text\":\"\",\"type\":\"scatter\",\"x\":[\"2009-01-02\",\"2009-01-05\",\"2009-01-06\",\"2009-01-07\",\"2009-01-08\",\"2009-01-09\",\"2009-01-12\",\"2009-01-13\",\"2009-01-14\",\"2009-01-15\",\"2009-01-16\",\"2009-01-20\",\"2009-01-21\",\"2009-01-22\",\"2009-01-23\",\"2009-01-26\",\"2009-01-27\",\"2009-01-28\",\"2009-01-29\",\"2009-01-30\",\"2009-02-02\",\"2009-02-03\",\"2009-02-04\",\"2009-02-05\",\"2009-02-06\",\"2009-02-09\",\"2009-02-10\",\"2009-02-11\",\"2009-02-12\",\"2009-02-13\",\"2009-02-17\",\"2009-02-18\",\"2009-02-19\",\"2009-02-20\",\"2009-02-23\",\"2009-02-24\",\"2009-02-25\",\"2009-02-26\",\"2009-02-27\",\"2009-03-02\",\"2009-03-03\",\"2009-03-04\",\"2009-03-05\",\"2009-03-06\",\"2009-03-09\",\"2009-03-10\",\"2009-03-11\",\"2009-03-12\",\"2009-03-13\",\"2009-03-16\",\"2009-03-17\",\"2009-03-18\",\"2009-03-19\",\"2009-03-20\",\"2009-03-23\",\"2009-03-24\",\"2009-03-25\",\"2009-03-26\",\"2009-03-27\",\"2009-03-30\",\"2009-03-31\",\"2009-04-01\",\"2009-04-02\",\"2009-04-03\",\"2009-04-06\",\"2009-04-07\",\"2009-04-08\",\"2009-04-09\",\"2009-04-13\",\"2009-04-14\",\"2009-04-15\",\"2009-04-16\",\"2009-04-17\",\"2009-04-20\",\"2009-04-21\",\"2009-04-22\",\"2009-04-23\",\"2009-04-24\",\"2009-04-27\",\"2009-04-28\",\"2009-04-29\",\"2009-04-30\",\"2009-05-01\",\"2009-05-04\",\"2009-05-05\",\"2009-05-06\",\"2009-05-07\",\"2009-05-08\",\"2009-05-11\",\"2009-05-12\",\"2009-05-13\",\"2009-05-14\",\"2009-05-15\",\"2009-05-18\",\"2009-05-19\",\"2009-05-20\",\"2009-05-21\",\"2009-05-22\",\"2009-05-26\",\"2009-05-27\",\"2009-05-28\",\"2009-05-29\",\"2009-06-01\",\"2009-06-02\",\"2009-06-03\",\"2009-06-04\",\"2009-06-05\",\"2009-06-08\",\"2009-06-09\",\"2009-06-10\",\"2009-06-11\",\"2009-06-12\",\"2009-06-15\",\"2009-06-16\",\"2009-06-17\",\"2009-06-18\",\"2009-06-19\",\"2009-06-22\",\"2009-06-23\",\"2009-06-24\",\"2009-06-25\",\"2009-06-26\",\"2009-06-29\",\"2009-06-30\",\"2009-07-01\",\"2009-07-02\",\"2009-07-06\",\"2009-07-07\",\"2009-07-08\",\"2009-07-09\",\"2009-07-10\",\"2009-07-13\",\"2009-07-14\",\"2009-07-15\",\"2009-07-16\",\"2009-07-17\",\"2009-07-20\",\"2009-07-21\",\"2009-07-22\",\"2009-07-23\",\"2009-07-24\",\"2009-07-27\",\"2009-07-28\",\"2009-07-29\",\"2009-07-30\",\"2009-07-31\",\"2009-08-03\",\"2009-08-04\",\"2009-08-05\",\"2009-08-06\",\"2009-08-07\",\"2009-08-10\",\"2009-08-11\",\"2009-08-12\",\"2009-08-13\",\"2009-08-14\",\"2009-08-17\",\"2009-08-18\",\"2009-08-19\",\"2009-08-20\",\"2009-08-21\",\"2009-08-24\",\"2009-08-25\",\"2009-08-26\",\"2009-08-27\",\"2009-08-28\",\"2009-08-31\",\"2009-09-01\",\"2009-09-02\",\"2009-09-03\",\"2009-09-04\",\"2009-09-08\",\"2009-09-09\",\"2009-09-10\",\"2009-09-11\",\"2009-09-14\",\"2009-09-15\",\"2009-09-16\",\"2009-09-17\",\"2009-09-18\",\"2009-09-21\",\"2009-09-22\",\"2009-09-23\",\"2009-09-24\",\"2009-09-25\",\"2009-09-28\",\"2009-09-29\",\"2009-09-30\",\"2009-10-01\",\"2009-10-02\",\"2009-10-05\",\"2009-10-06\",\"2009-10-07\",\"2009-10-08\",\"2009-10-09\",\"2009-10-12\",\"2009-10-13\",\"2009-10-14\",\"2009-10-15\",\"2009-10-16\",\"2009-10-19\",\"2009-10-20\",\"2009-10-21\",\"2009-10-22\",\"2009-10-23\",\"2009-10-26\",\"2009-10-27\",\"2009-10-28\",\"2009-10-29\",\"2009-10-30\",\"2009-11-02\",\"2009-11-03\",\"2009-11-04\",\"2009-11-05\",\"2009-11-06\",\"2009-11-09\",\"2009-11-10\",\"2009-11-11\",\"2009-11-12\",\"2009-11-13\",\"2009-11-16\",\"2009-11-17\",\"2009-11-18\",\"2009-11-19\",\"2009-11-20\",\"2009-11-23\",\"2009-11-24\",\"2009-11-25\",\"2009-11-27\",\"2009-11-30\",\"2009-12-01\",\"2009-12-02\",\"2009-12-03\",\"2009-12-04\",\"2009-12-07\",\"2009-12-08\",\"2009-12-09\",\"2009-12-10\",\"2009-12-11\",\"2009-12-14\",\"2009-12-15\",\"2009-12-16\",\"2009-12-17\",\"2009-12-18\",\"2009-12-21\",\"2009-12-22\",\"2009-12-23\",\"2009-12-24\",\"2009-12-28\",\"2009-12-29\",\"2009-12-30\",\"2009-12-31\"],\"y\":[\"\",\"\",\"\",\"\",\"\",\"\",\"\",\"\",\"\",\"\",\"\",\"\",\"\",18.889612818449585,16.365796918448915,14.335976812873618,14.344661418400865,15.850706062113336,18.470908278096395,21.550847554222177,22.994341908666634,27.53888036870022,28.61481239885908,28.61369586866615,28.578095573429422,30.589377119137712,30.180479897076594,31.325213483843008,31.51900272437505,31.885276991323156,30.550852100106297,29.446707310653032,26.673124349992985,22.21102610462927,19.647458684378023,18.705620535825485,17.74449158901673,16.845639817421795,13.94818690873747,11.045287412666616,8.36918938632068,6.595165268278912,5.237940768664933,4.5880562424716285,3.922068963332931,4.319864901966248,4.508522038271346,4.44878572940538,4.542800807565159,5.025682469442058,5.046138202181904,3.5356782247350136,3.277729838771739,3.747061992512098,3.8420153438480398,4.892529712049964,6.8199327810591726,9.375398571530523,12.546661391213899,14.557405955042103,16.83873916479323,19.224828925900255,21.888758430225565,22.701117578123565,23.042756503869747,23.198635362652784,23.337916815856055,23.42351650307267,21.43290387393104,19.65474642125841,18.74019523670014,18.320773963983594,18.939300165129055,20.242888005926375,21.36001419550676,22.224895515523592,22.983111278692753,23.532608952909282,24.282918979282837,24.607632743859597,25.59861892326557,25.61844780276158,25.11807761963488,25.545473094635373,26.307227400825766,26.792821220282633,26.44974942372069,26.0682422228255,25.90530410162776,26.036407359973953,26.24942506003962,26.5502917919693,27.10141258528358,28.311050312117352,29.001661608510062,30.08776762222205,31.8220794879578,32.92477921253804,33.8620956226636,33.86926973195455,33.837627080413924,34.28910008467494,34.44061445110635,34.19960745460403,34.11943080992202,34.15572647324026,34.0953478352502,33.65444161177183,33.30446063968218,33.13820024634293,33.03391303084893,32.914492144392824,32.78119458396505,32.27954230662308,31.264618016344965,30.821220589028474,30.656327663251915,29.826115203235204,29.173951170798148,28.866258542365927,28.52836770286988,28.25090744610699,28.029438879006985,27.92322344676604,28.017543192062615,28.153401119599124,27.983115586597947,27.322805365736123,26.39628064189881,25.96407831983709,25.43443388763584,25.31187499241566,25.334340746565086,25.142229114559157,25.142229114559157,25.148816671237974,25.07833741351046,24.766675952974342,24.740698687471287,24.67524370755202,24.60767821610568,24.60767821610568,24.924525986325854,24.816722687260942,25.303404336510166,25.40899509299794,25.38217635274383,25.290355837904414,24.54248709080729,23.603731625607537,23.354138854643605,23.694540481148756,24.354416099374838,25.012859990357,26.072823105370055,27.790846341247182,29.00209681500798,29.61538444194957,30.754173921646778,31.654851197719466,32.60823362907316,33.698294804771166,34.35153129311502,34.8912096418444,34.9087349161981,34.81427265732738,36.23710143985164,37.16523737341468,38.000224306507775,39.11575273466315,40.634096490196896,41.87021362064077,43.44089969338737,43.9625446401678,43.80896820816709,43.37367905760845,41.714209296147295,40.75668696457471,40.55521784767346,40.651818627346415,40.87155938734996,40.9006023004642,40.87401045838379,40.82557732729178,40.938057420859884,41.0005666311415,40.95818067619617,40.78961878408363,40.79377241116509,40.79377241116509,41.618187312403315,42.35380133378281,42.555399486789895,43.339861066684676,43.641381749614744,43.56703614298461,43.58688864765309,43.60909680823169,44.34835847568713,44.39053406784244,44.14060150944371,43.6769935200159,43.39640368292292,43.260819437384214,42.96501958585548,42.17635649405966,41.53282346366189,40.39655081862737,40.061374237944655,39.33932335400682,38.62226200938251,38.82709753371698,38.55518515896535,38.42976231461737,38.37478753107527,38.43110343076421,38.51978667835673,38.759959845161944,39.08650055164989,39.07368774045556,39.183175576460286,39.160474741990406,39.205831242029426,39.17568111950289,39.44211332969681,39.56529040335088,40.034365187758226,40.24122729795628,40.24122729795628,40.1408898627076,40.03530568171502,39.95158334166975,39.92469233394564,39.95158334166975,39.70192933043686,39.1254494955366,38.58593740216179,38.20480171989109,38.06251624390223,37.35237712436559,36.215666626549535,34.94469151235925,32.9551945112258,32.16844330857805,31.616792642899394,31.04581660084633,30.491749289605618,30.303082170390905,30.34910080776259,30.331910235664804,30.30246435161091,30.477410114520318]}],                        {\"legend\":{\"bgcolor\":\"#F5F6F9\",\"font\":{\"color\":\"#4D5663\"}},\"paper_bgcolor\":\"#F5F6F9\",\"plot_bgcolor\":\"#F5F6F9\",\"template\":{\"data\":{\"bar\":[{\"error_x\":{\"color\":\"#2a3f5f\"},\"error_y\":{\"color\":\"#2a3f5f\"},\"marker\":{\"line\":{\"color\":\"#E5ECF6\",\"width\":0.5},\"pattern\":{\"fillmode\":\"overlay\",\"size\":10,\"solidity\":0.2}},\"type\":\"bar\"}],\"barpolar\":[{\"marker\":{\"line\":{\"color\":\"#E5ECF6\",\"width\":0.5},\"pattern\":{\"fillmode\":\"overlay\",\"size\":10,\"solidity\":0.2}},\"type\":\"barpolar\"}],\"carpet\":[{\"aaxis\":{\"endlinecolor\":\"#2a3f5f\",\"gridcolor\":\"white\",\"linecolor\":\"white\",\"minorgridcolor\":\"white\",\"startlinecolor\":\"#2a3f5f\"},\"baxis\":{\"endlinecolor\":\"#2a3f5f\",\"gridcolor\":\"white\",\"linecolor\":\"white\",\"minorgridcolor\":\"white\",\"startlinecolor\":\"#2a3f5f\"},\"type\":\"carpet\"}],\"choropleth\":[{\"colorbar\":{\"outlinewidth\":0,\"ticks\":\"\"},\"type\":\"choropleth\"}],\"contour\":[{\"colorbar\":{\"outlinewidth\":0,\"ticks\":\"\"},\"colorscale\":[[0.0,\"#0d0887\"],[0.1111111111111111,\"#46039f\"],[0.2222222222222222,\"#7201a8\"],[0.3333333333333333,\"#9c179e\"],[0.4444444444444444,\"#bd3786\"],[0.5555555555555556,\"#d8576b\"],[0.6666666666666666,\"#ed7953\"],[0.7777777777777778,\"#fb9f3a\"],[0.8888888888888888,\"#fdca26\"],[1.0,\"#f0f921\"]],\"type\":\"contour\"}],\"contourcarpet\":[{\"colorbar\":{\"outlinewidth\":0,\"ticks\":\"\"},\"type\":\"contourcarpet\"}],\"heatmap\":[{\"colorbar\":{\"outlinewidth\":0,\"ticks\":\"\"},\"colorscale\":[[0.0,\"#0d0887\"],[0.1111111111111111,\"#46039f\"],[0.2222222222222222,\"#7201a8\"],[0.3333333333333333,\"#9c179e\"],[0.4444444444444444,\"#bd3786\"],[0.5555555555555556,\"#d8576b\"],[0.6666666666666666,\"#ed7953\"],[0.7777777777777778,\"#fb9f3a\"],[0.8888888888888888,\"#fdca26\"],[1.0,\"#f0f921\"]],\"type\":\"heatmap\"}],\"heatmapgl\":[{\"colorbar\":{\"outlinewidth\":0,\"ticks\":\"\"},\"colorscale\":[[0.0,\"#0d0887\"],[0.1111111111111111,\"#46039f\"],[0.2222222222222222,\"#7201a8\"],[0.3333333333333333,\"#9c179e\"],[0.4444444444444444,\"#bd3786\"],[0.5555555555555556,\"#d8576b\"],[0.6666666666666666,\"#ed7953\"],[0.7777777777777778,\"#fb9f3a\"],[0.8888888888888888,\"#fdca26\"],[1.0,\"#f0f921\"]],\"type\":\"heatmapgl\"}],\"histogram\":[{\"marker\":{\"pattern\":{\"fillmode\":\"overlay\",\"size\":10,\"solidity\":0.2}},\"type\":\"histogram\"}],\"histogram2d\":[{\"colorbar\":{\"outlinewidth\":0,\"ticks\":\"\"},\"colorscale\":[[0.0,\"#0d0887\"],[0.1111111111111111,\"#46039f\"],[0.2222222222222222,\"#7201a8\"],[0.3333333333333333,\"#9c179e\"],[0.4444444444444444,\"#bd3786\"],[0.5555555555555556,\"#d8576b\"],[0.6666666666666666,\"#ed7953\"],[0.7777777777777778,\"#fb9f3a\"],[0.8888888888888888,\"#fdca26\"],[1.0,\"#f0f921\"]],\"type\":\"histogram2d\"}],\"histogram2dcontour\":[{\"colorbar\":{\"outlinewidth\":0,\"ticks\":\"\"},\"colorscale\":[[0.0,\"#0d0887\"],[0.1111111111111111,\"#46039f\"],[0.2222222222222222,\"#7201a8\"],[0.3333333333333333,\"#9c179e\"],[0.4444444444444444,\"#bd3786\"],[0.5555555555555556,\"#d8576b\"],[0.6666666666666666,\"#ed7953\"],[0.7777777777777778,\"#fb9f3a\"],[0.8888888888888888,\"#fdca26\"],[1.0,\"#f0f921\"]],\"type\":\"histogram2dcontour\"}],\"mesh3d\":[{\"colorbar\":{\"outlinewidth\":0,\"ticks\":\"\"},\"type\":\"mesh3d\"}],\"parcoords\":[{\"line\":{\"colorbar\":{\"outlinewidth\":0,\"ticks\":\"\"}},\"type\":\"parcoords\"}],\"pie\":[{\"automargin\":true,\"type\":\"pie\"}],\"scatter\":[{\"marker\":{\"colorbar\":{\"outlinewidth\":0,\"ticks\":\"\"}},\"type\":\"scatter\"}],\"scatter3d\":[{\"line\":{\"colorbar\":{\"outlinewidth\":0,\"ticks\":\"\"}},\"marker\":{\"colorbar\":{\"outlinewidth\":0,\"ticks\":\"\"}},\"type\":\"scatter3d\"}],\"scattercarpet\":[{\"marker\":{\"colorbar\":{\"outlinewidth\":0,\"ticks\":\"\"}},\"type\":\"scattercarpet\"}],\"scattergeo\":[{\"marker\":{\"colorbar\":{\"outlinewidth\":0,\"ticks\":\"\"}},\"type\":\"scattergeo\"}],\"scattergl\":[{\"marker\":{\"colorbar\":{\"outlinewidth\":0,\"ticks\":\"\"}},\"type\":\"scattergl\"}],\"scattermapbox\":[{\"marker\":{\"colorbar\":{\"outlinewidth\":0,\"ticks\":\"\"}},\"type\":\"scattermapbox\"}],\"scatterpolar\":[{\"marker\":{\"colorbar\":{\"outlinewidth\":0,\"ticks\":\"\"}},\"type\":\"scatterpolar\"}],\"scatterpolargl\":[{\"marker\":{\"colorbar\":{\"outlinewidth\":0,\"ticks\":\"\"}},\"type\":\"scatterpolargl\"}],\"scatterternary\":[{\"marker\":{\"colorbar\":{\"outlinewidth\":0,\"ticks\":\"\"}},\"type\":\"scatterternary\"}],\"surface\":[{\"colorbar\":{\"outlinewidth\":0,\"ticks\":\"\"},\"colorscale\":[[0.0,\"#0d0887\"],[0.1111111111111111,\"#46039f\"],[0.2222222222222222,\"#7201a8\"],[0.3333333333333333,\"#9c179e\"],[0.4444444444444444,\"#bd3786\"],[0.5555555555555556,\"#d8576b\"],[0.6666666666666666,\"#ed7953\"],[0.7777777777777778,\"#fb9f3a\"],[0.8888888888888888,\"#fdca26\"],[1.0,\"#f0f921\"]],\"type\":\"surface\"}],\"table\":[{\"cells\":{\"fill\":{\"color\":\"#EBF0F8\"},\"line\":{\"color\":\"white\"}},\"header\":{\"fill\":{\"color\":\"#C8D4E3\"},\"line\":{\"color\":\"white\"}},\"type\":\"table\"}]},\"layout\":{\"annotationdefaults\":{\"arrowcolor\":\"#2a3f5f\",\"arrowhead\":0,\"arrowwidth\":1},\"autotypenumbers\":\"strict\",\"coloraxis\":{\"colorbar\":{\"outlinewidth\":0,\"ticks\":\"\"}},\"colorscale\":{\"diverging\":[[0,\"#8e0152\"],[0.1,\"#c51b7d\"],[0.2,\"#de77ae\"],[0.3,\"#f1b6da\"],[0.4,\"#fde0ef\"],[0.5,\"#f7f7f7\"],[0.6,\"#e6f5d0\"],[0.7,\"#b8e186\"],[0.8,\"#7fbc41\"],[0.9,\"#4d9221\"],[1,\"#276419\"]],\"sequential\":[[0.0,\"#0d0887\"],[0.1111111111111111,\"#46039f\"],[0.2222222222222222,\"#7201a8\"],[0.3333333333333333,\"#9c179e\"],[0.4444444444444444,\"#bd3786\"],[0.5555555555555556,\"#d8576b\"],[0.6666666666666666,\"#ed7953\"],[0.7777777777777778,\"#fb9f3a\"],[0.8888888888888888,\"#fdca26\"],[1.0,\"#f0f921\"]],\"sequentialminus\":[[0.0,\"#0d0887\"],[0.1111111111111111,\"#46039f\"],[0.2222222222222222,\"#7201a8\"],[0.3333333333333333,\"#9c179e\"],[0.4444444444444444,\"#bd3786\"],[0.5555555555555556,\"#d8576b\"],[0.6666666666666666,\"#ed7953\"],[0.7777777777777778,\"#fb9f3a\"],[0.8888888888888888,\"#fdca26\"],[1.0,\"#f0f921\"]]},\"colorway\":[\"#636efa\",\"#EF553B\",\"#00cc96\",\"#ab63fa\",\"#FFA15A\",\"#19d3f3\",\"#FF6692\",\"#B6E880\",\"#FF97FF\",\"#FECB52\"],\"font\":{\"color\":\"#2a3f5f\"},\"geo\":{\"bgcolor\":\"white\",\"lakecolor\":\"white\",\"landcolor\":\"#E5ECF6\",\"showlakes\":true,\"showland\":true,\"subunitcolor\":\"white\"},\"hoverlabel\":{\"align\":\"left\"},\"hovermode\":\"closest\",\"mapbox\":{\"style\":\"light\"},\"paper_bgcolor\":\"white\",\"plot_bgcolor\":\"#E5ECF6\",\"polar\":{\"angularaxis\":{\"gridcolor\":\"white\",\"linecolor\":\"white\",\"ticks\":\"\"},\"bgcolor\":\"#E5ECF6\",\"radialaxis\":{\"gridcolor\":\"white\",\"linecolor\":\"white\",\"ticks\":\"\"}},\"scene\":{\"xaxis\":{\"backgroundcolor\":\"#E5ECF6\",\"gridcolor\":\"white\",\"gridwidth\":2,\"linecolor\":\"white\",\"showbackground\":true,\"ticks\":\"\",\"zerolinecolor\":\"white\"},\"yaxis\":{\"backgroundcolor\":\"#E5ECF6\",\"gridcolor\":\"white\",\"gridwidth\":2,\"linecolor\":\"white\",\"showbackground\":true,\"ticks\":\"\",\"zerolinecolor\":\"white\"},\"zaxis\":{\"backgroundcolor\":\"#E5ECF6\",\"gridcolor\":\"white\",\"gridwidth\":2,\"linecolor\":\"white\",\"showbackground\":true,\"ticks\":\"\",\"zerolinecolor\":\"white\"}},\"shapedefaults\":{\"line\":{\"color\":\"#2a3f5f\"}},\"ternary\":{\"aaxis\":{\"gridcolor\":\"white\",\"linecolor\":\"white\",\"ticks\":\"\"},\"baxis\":{\"gridcolor\":\"white\",\"linecolor\":\"white\",\"ticks\":\"\"},\"bgcolor\":\"#E5ECF6\",\"caxis\":{\"gridcolor\":\"white\",\"linecolor\":\"white\",\"ticks\":\"\"}},\"title\":{\"x\":0.05},\"xaxis\":{\"automargin\":true,\"gridcolor\":\"white\",\"linecolor\":\"white\",\"ticks\":\"\",\"title\":{\"standoff\":15},\"zerolinecolor\":\"white\",\"zerolinewidth\":2},\"yaxis\":{\"automargin\":true,\"gridcolor\":\"white\",\"linecolor\":\"white\",\"ticks\":\"\",\"title\":{\"standoff\":15},\"zerolinecolor\":\"white\",\"zerolinewidth\":2}}},\"title\":{\"font\":{\"color\":\"#4D5663\"}},\"xaxis\":{\"gridcolor\":\"#E1E5ED\",\"showgrid\":true,\"tickfont\":{\"color\":\"#4D5663\"},\"title\":{\"font\":{\"color\":\"#4D5663\"},\"text\":\"\"},\"zerolinecolor\":\"#E1E5ED\"},\"yaxis\":{\"gridcolor\":\"#E1E5ED\",\"showgrid\":true,\"tickfont\":{\"color\":\"#4D5663\"},\"title\":{\"font\":{\"color\":\"#4D5663\"},\"text\":\"\"},\"zerolinecolor\":\"#E1E5ED\"}},                        {\"showLink\": true, \"linkText\": \"Export to plot.ly\", \"plotlyServerURL\": \"https://plot.ly\", \"responsive\": true}                    ).then(function(){\n",
       "                            \n",
       "var gd = document.getElementById('a52c419e-9fb0-4d9e-b476-72a784de183b');\n",
       "var x = new MutationObserver(function (mutations, observer) {{\n",
       "        var display = window.getComputedStyle(gd).display;\n",
       "        if (!display || display === 'none') {{\n",
       "            console.log([gd, 'removed!']);\n",
       "            Plotly.purge(gd);\n",
       "            observer.disconnect();\n",
       "        }}\n",
       "}});\n",
       "\n",
       "// Listen for the removal of the full notebook cells\n",
       "var notebookContainer = gd.closest('#notebook-container');\n",
       "if (notebookContainer) {{\n",
       "    x.observe(notebookContainer, {childList: true});\n",
       "}}\n",
       "\n",
       "// Listen for the clearing of the current output cell\n",
       "var outputEl = gd.closest('.output');\n",
       "if (outputEl) {{\n",
       "    x.observe(outputEl, {childList: true});\n",
       "}}\n",
       "\n",
       "                        })                };                });            </script>        </div>"
      ]
     },
     "metadata": {},
     "output_type": "display_data"
    }
   ],
   "source": [
    "C['Close'].loc['2009-01-01':'2010-01-01'].ta_plot(study='boll')"
   ]
  },
  {
   "cell_type": "code",
   "execution_count": null,
   "id": "f744fb07",
   "metadata": {},
   "outputs": [],
   "source": []
  }
 ],
 "metadata": {
  "kernelspec": {
   "display_name": "Python 3",
   "language": "python",
   "name": "python3"
  },
  "language_info": {
   "codemirror_mode": {
    "name": "ipython",
    "version": 3
   },
   "file_extension": ".py",
   "mimetype": "text/x-python",
   "name": "python",
   "nbconvert_exporter": "python",
   "pygments_lexer": "ipython3",
   "version": "3.8.8"
  }
 },
 "nbformat": 4,
 "nbformat_minor": 5
}
